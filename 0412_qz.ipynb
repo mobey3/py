{
 "cells": [
  {
   "cell_type": "code",
   "execution_count": 56,
   "metadata": {},
   "outputs": [],
   "source": [
    "year_list = [1991,1992,1993,1994,1995,1996]"
   ]
  },
  {
   "cell_type": "code",
   "execution_count": 57,
   "metadata": {},
   "outputs": [
    {
     "name": "stdout",
     "output_type": "stream",
     "text": [
      "1994\n"
     ]
    }
   ],
   "source": [
    "print(year_list[3])"
   ]
  },
  {
   "cell_type": "code",
   "execution_count": 58,
   "metadata": {},
   "outputs": [
    {
     "name": "stdout",
     "output_type": "stream",
     "text": [
      "1995\n",
      "1996\n"
     ]
    }
   ],
   "source": [
    "print(year_list[4])\n",
    "print(year_list[-1])"
   ]
  },
  {
   "cell_type": "code",
   "execution_count": 59,
   "metadata": {},
   "outputs": [
    {
     "name": "stdout",
     "output_type": "stream",
     "text": [
      "['MOZZARELLA', 'CHNDERELLA', 'SALMONELLA']\n"
     ]
    }
   ],
   "source": [
    "things = ['mozzarella','chnderella','salmonella']\n",
    "things_upper\n",
    "print(things_upper)\n",
    "#for m in things:\n",
    "#    things_upper.append(m.upper())\n",
    "#print(things_upper)"
   ]
  },
  {
   "cell_type": "code",
   "execution_count": 60,
   "metadata": {},
   "outputs": [
    {
     "name": "stdout",
     "output_type": "stream",
     "text": [
      "harpo\n"
     ]
    }
   ],
   "source": [
    "surprise = ['Groucho','Chico','Harpo']\n",
    "m = surprise[-1].lower()\n",
    "print(m)"
   ]
  },
  {
   "cell_type": "code",
   "execution_count": 69,
   "metadata": {},
   "outputs": [
    {
     "name": "stdout",
     "output_type": "stream",
     "text": [
      "Oprah\n",
      "Oprah\n"
     ]
    }
   ],
   "source": [
    "a = reversed(m)\n",
    "print(''.join(a).title())\n",
    "print(m[::-1].title())"
   ]
  },
  {
   "cell_type": "code",
   "execution_count": 38,
   "metadata": {},
   "outputs": [
    {
     "name": "stdout",
     "output_type": "stream",
     "text": [
      "[0, 2, 4, 6, 8]\n"
     ]
    }
   ],
   "source": [
    "a_list = [num for num in range(10) if num % 2 ==0]\n",
    "print(a_list)"
   ]
  },
  {
   "cell_type": "code",
   "execution_count": 73,
   "metadata": {},
   "outputs": [
    {
     "name": "stdout",
     "output_type": "stream",
     "text": [
      "Fee! Fie! Foe! Flop! Fope! Fa! Fudgo! Fat! Fog! Fun! "
     ]
    }
   ],
   "source": [
    "start1 = [\"fee\",\"fie\",\"foe\"]\n",
    "rhymes = [\n",
    "    (\"flop\",\"get a mop\"),\n",
    "    (\"fope\",\"turn the rope\"),\n",
    "    (\"fa\",\"get your ma\"),\n",
    "    (\"fudgo\",\"call the judge\"),\n",
    "    (\"fat\",\"pet the cat\"),\n",
    "    (\"fog\",\"walk the dog\"),\n",
    "    (\"fun\",\"say we're done\"),\n",
    "]\n",
    "start2 = \"someone better\"\n",
    "\n",
    "for i in start1 :\n",
    "    print(i.title()+'! ', end = '')\n",
    "\n",
    "for i in range(0,len(rhymes)):\n",
    "    print(rhymes[i][0].title()+'! ', end = '')"
   ]
  },
  {
   "cell_type": "code",
   "execution_count": 82,
   "metadata": {},
   "outputs": [
    {
     "name": "stdout",
     "output_type": "stream",
     "text": [
      "someone better get a mop.\n",
      "someone better get a mop.\n",
      "someone better turn the rope.\n",
      "someone better get your ma.\n",
      "someone better call the judge.\n",
      "someone better pet the cat.\n",
      "someone better walk the dog.\n",
      "someone better say we're done.\n"
     ]
    }
   ],
   "source": [
    "print(start2 +' '+ rhymes[0][1]+'.')\n",
    "\n",
    "for a in range(0,len(rhymes)) :\n",
    "    print(start2 + ' '+ rhymes[a][1]+'.')\n",
    " "
   ]
  }
 ],
 "metadata": {
  "kernelspec": {
   "display_name": "Python 3",
   "language": "python",
   "name": "python3"
  },
  "language_info": {
   "codemirror_mode": {
    "name": "ipython",
    "version": 3
   },
   "file_extension": ".py",
   "mimetype": "text/x-python",
   "name": "python",
   "nbconvert_exporter": "python",
   "pygments_lexer": "ipython3",
   "version": "3.8.5"
  }
 },
 "nbformat": 4,
 "nbformat_minor": 4
}

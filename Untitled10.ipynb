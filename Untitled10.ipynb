{
 "cells": [
  {
   "cell_type": "code",
   "execution_count": 3,
   "metadata": {},
   "outputs": [
    {
     "name": "stdout",
     "output_type": "stream",
     "text": [
      "<table class=\"table table-sm\">\n",
      "<colgroup>\n",
      "<col width=\"20%\"/>\n",
      "<col width=\"25%\"/>\n",
      "<col class=\"d-none d-md-table-column\"/>\n",
      "</colgroup>\n",
      "<thead>\n",
      "<tr class=\"bg-light small\">\n",
      "<th scope=\"col\">직업</th>\n",
      "<th scope=\"col\">스킬<span class=\"d-inline-block d-md-none\">/효과</span></th>\n",
      "<th class=\"d-none d-md-table-cell\" scope=\"col\">효과\n",
      "                            <small class=\"d-none d-md-inline-block ml-0 ml-md-1\">(1레벨/2레벨)</small>\n",
      "</th>\n",
      "</tr>\n",
      "</thead>\n",
      "<tbody>\n",
      "<tr>\n",
      "<th scope=\"row\">\n",
      "<span>메르세데스</span>\n",
      "</th>\n",
      "<td>\n",
      "<img alt=\"엘프의 축복\" src=\"https://kr-cdn.maple.gg/images/maplestory/skills/links/eleven_blessing.png\" width=\"24\"/>\n",
      "<span>엘프의 축복</span>\n",
      "</td>\n",
      "<td class=\"d-none d-md-table-cell\">경험치 10%/15% 추가</td>\n",
      "</tr>\n",
      "<tr class=\"d-table-row d-md-none\">\n",
      "<td class=\"pt-0 pb-3 border-0\" colspan=\"2\">경험치 10%/15% 추가</td>\n",
      "</tr>\n",
      "<tr>\n",
      "<th scope=\"row\">\n",
      "<span>에반</span>\n",
      "</th>\n",
      "<td>\n",
      "<img alt=\"룬 퍼시스턴스\" src=\"https://kr-cdn.maple.gg/images/maplestory/skills/links/rune_persistence.png\" width=\"24\"/>\n",
      "<span>룬 퍼시스턴스</span>\n",
      "</td>\n",
      "<td class=\"d-none d-md-table-cell\">룬 해방 지속시간 30%/50% 증가</td>\n",
      "</tr>\n",
      "<tr class=\"d-table-row d-md-none\">\n",
      "<td class=\"pt-0 pb-3 border-0\" colspan=\"2\">룬 해방 지속시간 30%/50% 증가</td>\n",
      "</tr>\n",
      "<tr>\n",
      "<th scope=\"row\">\n",
      "<span>아란</span>\n",
      "</th>\n",
      "<td>\n",
      "<img alt=\"콤보킬 어드밴티지\" src=\"https://kr-cdn.maple.gg/images/maplestory/skills/links/combo_kill_advantage.png\" width=\"24\"/>\n",
      "<span>콤보킬 어드밴티지</span>\n",
      "</td>\n",
      "<td class=\"d-none d-md-table-cell\">영구적으로 콤보킬 구슬 경험치 획득량 400%/650%</td>\n",
      "</tr>\n",
      "<tr class=\"d-table-row d-md-none\">\n",
      "<td class=\"pt-0 pb-3 border-0\" colspan=\"2\">영구적으로 콤보킬 구슬 경험치 획득량 400%/650%</td>\n",
      "</tr>\n",
      "</tbody>\n",
      "</table>\n"
     ]
    }
   ],
   "source": [
    "import requests\n",
    "from bs4 import BeautifulSoup\n",
    "\n",
    "url = \"https://maple.gg/info/link\"\n",
    "htmlText = requests.get(url).text\n",
    "bsoup = BeautifulSoup(htmlText, \"html.parser\")\n",
    "btab = bsoup.find('table',{'class':'table table-sm'})\n",
    "print(btab)\n",
    "\n",
    "# btrs = btab.find_all(\"td\",{\"class\" :\"champion-index-table__cell champion-index-table__cell--champion\"})\n",
    "    \n",
    "# tops = []\n",
    "\n",
    "# for tr in btrs:\n",
    "#     dic = {}\n",
    "#     tds = tr.find_all(\"div\")\n",
    "#     dic['champion'] = tds[0].text\n",
    "#     a = tds[1].text.replace(\"\\t\",\"\")\n",
    "#     dic['position'] = a.replace(\"\\n\",\"\")\n",
    "#     tops.append(dic)"
   ]
  },
  {
   "cell_type": "code",
   "execution_count": null,
   "metadata": {},
   "outputs": [],
   "source": []
  }
 ],
 "metadata": {
  "kernelspec": {
   "display_name": "Python 3",
   "language": "python",
   "name": "python3"
  },
  "language_info": {
   "codemirror_mode": {
    "name": "ipython",
    "version": 3
   },
   "file_extension": ".py",
   "mimetype": "text/x-python",
   "name": "python",
   "nbconvert_exporter": "python",
   "pygments_lexer": "ipython3",
   "version": "3.8.5"
  }
 },
 "nbformat": 4,
 "nbformat_minor": 4
}

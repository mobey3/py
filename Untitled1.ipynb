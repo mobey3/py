{
 "cells": [
  {
   "cell_type": "code",
   "execution_count": 48,
   "metadata": {},
   "outputs": [],
   "source": [
    "import tkinter as tk\n",
    "from tkinter import ttk\n",
    "root = tk.Tk()\n",
    "l1 = {\"Excel A\":[\"Column A\",\"Column B\",\"Column C\"],\"Excel B\":[\"Column 1\",\"Column 2\"]} #make a dict from your excel & sheet names\n",
    "a = ttk.Combobox(root,value=[k for k in l1],state=\"readonly\")\n",
    "a.pack()\n",
    "b = ttk.Combobox(root,state=\"readonly\")\n",
    "b.pack()\n",
    "def change_box(event=None):\n",
    "    b[\"values\"] = l1.get(a.get())\n",
    "    b.current(0)\n",
    "a.bind(\"<<ComboboxSelected>>\",change_box)\n",
    "root.mainloop()"
   ]
  },
  {
   "cell_type": "code",
   "execution_count": 53,
   "metadata": {},
   "outputs": [],
   "source": [
    "import tkinter as tk\n",
    "from tkinter import ttk\n",
    "\n",
    "OptionList = [\n",
    "\"봄\",\n",
    "\"여름\",\n",
    "\"가을\",\n",
    "\"겨울\"\n",
    "] \n",
    "\n",
    "app = tk.Tk()\n",
    "\n",
    "app.geometry('200x200')\n",
    "app.title(\"select\")\n",
    "variable = tk.StringVar(app)\n",
    "variable.set(OptionList[0])\n",
    "\n",
    "opt = ttk.Combobox(app, value = OptionList, state = \"readonly\")\n",
    "opt.config(width=15, font=('Noto Sans KR', 12))\n",
    "opt.place(x = 10, y = 20)\n",
    "\n",
    "\n",
    "labelTest = tk.Label(text=\"\", font=('Noto Sans KR', 12), fg='black')\n",
    "#labelTest.pack(side=\"bottom\")\n",
    "labelTest.place(x = 40, y = 60)\n",
    "\n",
    "def callback(*args):\n",
    "    labelTest.configure(text=\"지금은 {}입니다\".format(variable.get()))\n",
    "\n",
    "variable.trace(\"w\", callback)\n",
    "\n",
    "app.mainloop()"
   ]
  },
  {
   "cell_type": "code",
   "execution_count": null,
   "metadata": {},
   "outputs": [],
   "source": []
  }
 ],
 "metadata": {
  "kernelspec": {
   "display_name": "Python 3",
   "language": "python",
   "name": "python3"
  }
 },
 "nbformat": 4,
 "nbformat_minor": 4
}

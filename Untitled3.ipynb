{
 "cells": [
  {
   "cell_type": "code",
   "execution_count": 61,
   "metadata": {
    "scrolled": false
   },
   "outputs": [
    {
     "ename": "TclError",
     "evalue": "invalid command name \".!treeview\"",
     "output_type": "error",
     "traceback": [
      "\u001b[1;31m---------------------------------------------------------------------------\u001b[0m",
      "\u001b[1;31mTclError\u001b[0m                                  Traceback (most recent call last)",
      "\u001b[1;32m<ipython-input-61-f80cb576027d>\u001b[0m in \u001b[0;36m<module>\u001b[1;34m\u001b[0m\n\u001b[0;32m     18\u001b[0m     \u001b[0mtops\u001b[0m\u001b[1;33m.\u001b[0m\u001b[0mappend\u001b[0m\u001b[1;33m(\u001b[0m\u001b[0mdic\u001b[0m\u001b[1;33m)\u001b[0m\u001b[1;33m\u001b[0m\u001b[1;33m\u001b[0m\u001b[0m\n\u001b[0;32m     19\u001b[0m \u001b[1;33m\u001b[0m\u001b[0m\n\u001b[1;32m---> 20\u001b[1;33m \u001b[0msetTableItem\u001b[0m\u001b[1;33m(\u001b[0m\u001b[1;33m)\u001b[0m\u001b[1;33m\u001b[0m\u001b[1;33m\u001b[0m\u001b[0m\n\u001b[0m",
      "\u001b[1;32m<ipython-input-57-cc2967608b68>\u001b[0m in \u001b[0;36msetTableItem\u001b[1;34m()\u001b[0m\n\u001b[0;32m     43\u001b[0m \u001b[1;33m\u001b[0m\u001b[0m\n\u001b[0;32m     44\u001b[0m \u001b[1;32mdef\u001b[0m \u001b[0msetTableItem\u001b[0m\u001b[1;33m(\u001b[0m\u001b[1;33m)\u001b[0m\u001b[1;33m:\u001b[0m\u001b[1;33m\u001b[0m\u001b[1;33m\u001b[0m\u001b[0m\n\u001b[1;32m---> 45\u001b[1;33m     \u001b[0mtreeTable\u001b[0m\u001b[1;33m.\u001b[0m\u001b[0mdelete\u001b[0m\u001b[1;33m(\u001b[0m\u001b[1;33m*\u001b[0m\u001b[0mtreeTable\u001b[0m\u001b[1;33m.\u001b[0m\u001b[0mget_children\u001b[0m\u001b[1;33m(\u001b[0m\u001b[1;33m)\u001b[0m\u001b[1;33m)\u001b[0m\u001b[1;33m\u001b[0m\u001b[1;33m\u001b[0m\u001b[0m\n\u001b[0m\u001b[0;32m     46\u001b[0m     \u001b[1;32mfor\u001b[0m \u001b[0midx\u001b[0m\u001b[1;33m,\u001b[0m \u001b[0mreport\u001b[0m \u001b[1;32min\u001b[0m \u001b[0menumerate\u001b[0m\u001b[1;33m(\u001b[0m\u001b[0mtops\u001b[0m\u001b[1;33m)\u001b[0m\u001b[1;33m:\u001b[0m \u001b[1;31m#enumerate passengers안에 리스트를 숫자화?\u001b[0m\u001b[1;33m\u001b[0m\u001b[1;33m\u001b[0m\u001b[0m\n\u001b[0;32m     47\u001b[0m         \u001b[0mchampion\u001b[0m \u001b[1;33m=\u001b[0m \u001b[0mreport\u001b[0m\u001b[1;33m[\u001b[0m\u001b[1;34m'champion'\u001b[0m\u001b[1;33m]\u001b[0m\u001b[1;33m\u001b[0m\u001b[1;33m\u001b[0m\u001b[0m\n",
      "\u001b[1;32m~\\anaconda3\\lib\\tkinter\\ttk.py\u001b[0m in \u001b[0;36mget_children\u001b[1;34m(self, item)\u001b[0m\n\u001b[0;32m   1223\u001b[0m         If item is not specified, returns root children.\"\"\"\n\u001b[0;32m   1224\u001b[0m         return self.tk.splitlist(\n\u001b[1;32m-> 1225\u001b[1;33m                 self.tk.call(self._w, \"children\", item or '') or ())\n\u001b[0m\u001b[0;32m   1226\u001b[0m \u001b[1;33m\u001b[0m\u001b[0m\n\u001b[0;32m   1227\u001b[0m \u001b[1;33m\u001b[0m\u001b[0m\n",
      "\u001b[1;31mTclError\u001b[0m: invalid command name \".!treeview\""
     ]
    }
   ],
   "source": [
    "import requests\n",
    "from bs4 import BeautifulSoup\n",
    "\n",
    "url = \"https://www.op.gg/champion/statistics\"\n",
    "htmlText = requests.get(url).text\n",
    "bsoup = BeautifulSoup(htmlText, \"html.parser\")\n",
    "btab = bsoup.find(\"tbody\", {\"class\" : \"tabItem champion-trend-tier-TOP\"})\n",
    "btrs = btab.find_all(\"td\",{\"class\" :\"champion-index-table__cell champion-index-table__cell--champion\"})\n",
    "    \n",
    "tops = []\n",
    "\n",
    "for tr in btrs:\n",
    "    dic = {}\n",
    "    tds = tr.find_all(\"div\")\n",
    "    dic['champion'] = tds[0].text\n",
    "    a = tds[1].text.replace(\"\\t\",\"\")\n",
    "    dic['position'] = a.replace(\"\\n\",\"\")\n",
    "    tops.append(dic)\n",
    "        \n",
    "        "
   ]
  },
  {
   "cell_type": "code",
   "execution_count": 62,
   "metadata": {},
   "outputs": [],
   "source": [
    "from tkinter import Tk,ttk,Label,Button,Text,END\n",
    "import tkinter as tk #tkinter 라이브러리\n",
    "from tkinter import ttk\n",
    "\n",
    "window = Tk()\n",
    "window.title(\"챔피언 분석\")  # 이름\n",
    "window.geometry(\"450x450\") # 크기 조정\n",
    "window.resizable(0,0) #고정\n",
    "\n",
    "title = \"포지션별 챔피언 랭킹\" #헤더 느낌?\n",
    "title_feature = Label(window,text = title, font = (\"Noto Sans KR\",20)) #라벨 , 폰트 조정\n",
    "title_feature.pack(padx = 10, pady = 15) \n",
    "\n",
    "treeTable = ttk.Treeview(window)  #테이블 생성\n",
    "treeTable[\"columns\"] = (\"champion\",\"position\")  # 테이블 아이템\n",
    "treeTable.column(\"#0\",width = 50)  # 이름 및 테이블 크기\n",
    "treeTable.column(\"champion\",width = 100)  \n",
    "treeTable.column(\"position\",width = 50)\n",
    "\n",
    "# combobox = Tk.ttk.Combobox(window, height=15, values=values)\n",
    "\n",
    "treeTable.heading(\"#0\", text = \"No.\",anchor = \"center\") #heading열이름 / 중앙 정렬\n",
    "treeTable.heading(\"champion\", text = \"챔피언\", anchor = \"center\")  #테이블 아이템 이름 변경 / 중앙 정렬\n",
    "treeTable.heading(\"position\",text = \"라인\", anchor = \"center\")\n",
    "\n",
    "OptionList = [\n",
    "    \"탑\",\n",
    "    \"정글\",\n",
    "    \"미드\",\n",
    "    \"원딜\",\n",
    "    \"서폿\"\n",
    "]\n",
    "\n",
    "# window.geometry('200x200')\n",
    "# window.title(\"라인\")\n",
    "variable = tk.StringVar(window)\n",
    "variable.set(OptionList[0])\n",
    "\n",
    "opt = ttk.Combobox(window, value = OptionList, state = \"readonly\")\n",
    "opt.config(width=15, font=('Noto Sans KR', 12))\n",
    "opt.place(x = 20, y = 50)\n",
    "\n",
    "\n",
    "def setTableItem():\n",
    "    treeTable.delete(*treeTable.get_children())\n",
    "    for idx, report in enumerate(tops): #enumerate passengers안에 리스트를 숫자화?\n",
    "        champion = report['champion']\n",
    "        position = report['position']\n",
    "        treeTable.insert(\"\",'end',iid = None, text = str(idx),values = [champion,position])\n",
    "\n",
    "def callback(*args):\n",
    "\n",
    "    variable.trace(\"w\",callback)\n",
    "    \n",
    "# btn1 = Button(window, text = '검색') #command = 함수이름\n",
    "# btn1.place(x=-100,y=300, relx = 0.5, width = 40, height = 40)\n",
    "# btn1.pack()\n",
    "\n",
    "        \n",
    "setTableItem()       \n",
    "treeTable.place(x=10,y=90,width=420,height=250)\n",
    "\n",
    "\n",
    "\n",
    "\n",
    "#conda install pyinstaller \n",
    "# cd <= 경로 지정 (cd C:\\)\n",
    "#pyinstaller -w -F 0701_2.py\n",
    "\n",
    "\n",
    "window.mainloop()"
   ]
  },
  {
   "cell_type": "code",
   "execution_count": 56,
   "metadata": {},
   "outputs": [
    {
     "ename": "TclError",
     "evalue": "invalid command name \".!treeview\"",
     "output_type": "error",
     "traceback": [
      "\u001b[1;31m---------------------------------------------------------------------------\u001b[0m",
      "\u001b[1;31mTclError\u001b[0m                                  Traceback (most recent call last)",
      "\u001b[1;32m<ipython-input-56-4211d74af1ff>\u001b[0m in \u001b[0;36m<module>\u001b[1;34m\u001b[0m\n\u001b[0;32m     17\u001b[0m     \u001b[0mtops\u001b[0m\u001b[1;33m.\u001b[0m\u001b[0mappend\u001b[0m\u001b[1;33m(\u001b[0m\u001b[0mdic\u001b[0m\u001b[1;33m)\u001b[0m\u001b[1;33m\u001b[0m\u001b[1;33m\u001b[0m\u001b[0m\n\u001b[0;32m     18\u001b[0m \u001b[1;33m\u001b[0m\u001b[0m\n\u001b[1;32m---> 19\u001b[1;33m \u001b[0msetTableItem\u001b[0m\u001b[1;33m(\u001b[0m\u001b[1;33m)\u001b[0m\u001b[1;33m\u001b[0m\u001b[1;33m\u001b[0m\u001b[0m\n\u001b[0m",
      "\u001b[1;32m<ipython-input-52-bfab58c26101>\u001b[0m in \u001b[0;36msetTableItem\u001b[1;34m()\u001b[0m\n\u001b[0;32m     43\u001b[0m \u001b[1;33m\u001b[0m\u001b[0m\n\u001b[0;32m     44\u001b[0m \u001b[1;32mdef\u001b[0m \u001b[0msetTableItem\u001b[0m\u001b[1;33m(\u001b[0m\u001b[1;33m)\u001b[0m\u001b[1;33m:\u001b[0m\u001b[1;33m\u001b[0m\u001b[1;33m\u001b[0m\u001b[0m\n\u001b[1;32m---> 45\u001b[1;33m     \u001b[0mtreeTable\u001b[0m\u001b[1;33m.\u001b[0m\u001b[0mdelete\u001b[0m\u001b[1;33m(\u001b[0m\u001b[1;33m*\u001b[0m\u001b[0mtreeTable\u001b[0m\u001b[1;33m.\u001b[0m\u001b[0mget_children\u001b[0m\u001b[1;33m(\u001b[0m\u001b[1;33m)\u001b[0m\u001b[1;33m)\u001b[0m\u001b[1;33m\u001b[0m\u001b[1;33m\u001b[0m\u001b[0m\n\u001b[0m\u001b[0;32m     46\u001b[0m     \u001b[1;32mfor\u001b[0m \u001b[0midx\u001b[0m\u001b[1;33m,\u001b[0m \u001b[0mreport\u001b[0m \u001b[1;32min\u001b[0m \u001b[0menumerate\u001b[0m\u001b[1;33m(\u001b[0m\u001b[0mtops\u001b[0m\u001b[1;33m)\u001b[0m\u001b[1;33m:\u001b[0m \u001b[1;31m#enumerate passengers안에 리스트를 숫자화?\u001b[0m\u001b[1;33m\u001b[0m\u001b[1;33m\u001b[0m\u001b[0m\n\u001b[0;32m     47\u001b[0m         \u001b[0mchampion\u001b[0m \u001b[1;33m=\u001b[0m \u001b[0mreport\u001b[0m\u001b[1;33m[\u001b[0m\u001b[1;34m'champion'\u001b[0m\u001b[1;33m]\u001b[0m\u001b[1;33m\u001b[0m\u001b[1;33m\u001b[0m\u001b[0m\n",
      "\u001b[1;32m~\\anaconda3\\lib\\tkinter\\ttk.py\u001b[0m in \u001b[0;36mget_children\u001b[1;34m(self, item)\u001b[0m\n\u001b[0;32m   1223\u001b[0m         If item is not specified, returns root children.\"\"\"\n\u001b[0;32m   1224\u001b[0m         return self.tk.splitlist(\n\u001b[1;32m-> 1225\u001b[1;33m                 self.tk.call(self._w, \"children\", item or '') or ())\n\u001b[0m\u001b[0;32m   1226\u001b[0m \u001b[1;33m\u001b[0m\u001b[0m\n\u001b[0;32m   1227\u001b[0m \u001b[1;33m\u001b[0m\u001b[0m\n",
      "\u001b[1;31mTclError\u001b[0m: invalid command name \".!treeview\""
     ]
    }
   ],
   "source": []
  },
  {
   "cell_type": "code",
   "execution_count": null,
   "metadata": {},
   "outputs": [],
   "source": []
  }
 ],
 "metadata": {
  "kernelspec": {
   "display_name": "Python 3",
   "language": "python",
   "name": "python3"
  },
  "language_info": {
   "codemirror_mode": {
    "name": "ipython",
    "version": 3
   },
   "file_extension": ".py",
   "mimetype": "text/x-python",
   "name": "python",
   "nbconvert_exporter": "python",
   "pygments_lexer": "ipython3",
   "version": "3.8.5"
  }
 },
 "nbformat": 4,
 "nbformat_minor": 4
}

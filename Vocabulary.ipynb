{
 "cells": [
  {
   "cell_type": "code",
   "execution_count": 14,
   "id": "20ef4abe",
   "metadata": {
    "scrolled": false
   },
   "outputs": [
    {
     "ename": "TypeError",
     "evalue": "search() missing 1 required positional argument: 'string'",
     "output_type": "error",
     "traceback": [
      "\u001b[1;31m---------------------------------------------------------------------------\u001b[0m",
      "\u001b[1;31mTypeError\u001b[0m                                 Traceback (most recent call last)",
      "\u001b[1;32m<ipython-input-14-578e0ecc69e8>\u001b[0m in \u001b[0;36m<module>\u001b[1;34m\u001b[0m\n\u001b[0;32m     16\u001b[0m     \u001b[0ma3\u001b[0m \u001b[1;33m=\u001b[0m \u001b[0mi\u001b[0m\u001b[1;33m[\u001b[0m\u001b[1;36m0\u001b[0m\u001b[1;33m]\u001b[0m\u001b[1;33m\u001b[0m\u001b[1;33m\u001b[0m\u001b[0m\n\u001b[0;32m     17\u001b[0m     \u001b[0ma4\u001b[0m \u001b[1;33m=\u001b[0m \u001b[1;33m[\u001b[0m\u001b[0ma3\u001b[0m\u001b[1;33m,\u001b[0m\u001b[0ma2\u001b[0m\u001b[1;33m]\u001b[0m\u001b[1;33m\u001b[0m\u001b[1;33m\u001b[0m\u001b[0m\n\u001b[1;32m---> 18\u001b[1;33m     \u001b[0ma2\u001b[0m \u001b[1;33m=\u001b[0m \u001b[0mre\u001b[0m\u001b[1;33m.\u001b[0m\u001b[0msearch\u001b[0m\u001b[1;33m(\u001b[0m\u001b[1;34mr'a-z'\u001b[0m\u001b[1;33m)\u001b[0m\u001b[1;33m\u001b[0m\u001b[1;33m\u001b[0m\u001b[0m\n\u001b[0m\u001b[0;32m     19\u001b[0m     \u001b[0mprint\u001b[0m\u001b[1;33m(\u001b[0m\u001b[0ma2\u001b[0m\u001b[1;33m)\u001b[0m\u001b[1;33m\u001b[0m\u001b[1;33m\u001b[0m\u001b[0m\n\u001b[0;32m     20\u001b[0m \u001b[1;33m\u001b[0m\u001b[0m\n",
      "\u001b[1;31mTypeError\u001b[0m: search() missing 1 required positional argument: 'string'"
     ]
    }
   ],
   "source": [
    "import csv\n",
    "import numpy as np\n",
    "import pandas as pd\n",
    "import matplotlib.pyplot as plt\n",
    "from tkinter import Tk,ttk,Label,Button,Text,END\n",
    "import re\n",
    "\n",
    "f = open('Vocabulary.csv',encoding = 'cp949')\n",
    "data = csv.reader(f)\n",
    "header = next(data)\n",
    "\n",
    "for i in data:\n",
    "    a = i[1].replace(',','')\n",
    "    a1 = a.replace('?','')\n",
    "    a2 = a1.replace('~','')\n",
    "    a3 = i[0]\n",
    "    a4 = [a3,a2]\n",
    "    a2 = re.search(r'a-z')\n",
    "    print(a2)\n",
    "    \n",
    "f.close()\n",
    "\n",
    "\n",
    "\n",
    "\n",
    "\n",
    "window = Tk()\n",
    "window.title(\"영어단어1000\")  # 이름\n",
    "window.geometry(\"450x450\") # 크기 조정\n",
    "window.resizable(0,0) #고정\n",
    "\n",
    "title = \"공부하자!\" #헤더 느낌?\n",
    "title_feature = Label(window,text = title, font = (\"Noto Sans KR\",20)) #라벨 , 폰트 조정\n",
    "title_feature.pack(padx = 10, pady = 15)\n",
    "\n",
    "treeTable = ttk.Treeview(window)  #테이블 생성\n",
    "treeTable[\"columns\"] = (\"word\",\"meaning\",\"success\")  # 테이블 아이템\n",
    "treeTable.column(\"#0\",width = 50)  # 이름 및 테이블 크기\n",
    "treeTable.column(\"word\",width = 100)  \n",
    "treeTable.column(\"meaning\",width = 50)\n",
    "treeTable.column(\"success\",width = 50)\n",
    "\n",
    "treeTable.heading(\"#0\", text = \"No.\",anchor = \"center\") #heading열이름 / 중앙 정렬\n",
    "treeTable.heading(\"word\", text = \"단어\", anchor = \"center\") \n",
    "treeTable.heading(\"meaning\",text = \"뜻\", anchor = \"center\")\n",
    "treeTable.heading(\"success\",text = \"성공여부\", anchor = \"center\")\n",
    "\n",
    "window.mainloop()"
   ]
  },
  {
   "cell_type": "code",
   "execution_count": null,
   "id": "b8c481f0",
   "metadata": {},
   "outputs": [],
   "source": []
  }
 ],
 "metadata": {
  "kernelspec": {
   "display_name": "Python 3",
   "language": "python",
   "name": "python3"
  },
  "language_info": {
   "codemirror_mode": {
    "name": "ipython",
    "version": 3
   },
   "file_extension": ".py",
   "mimetype": "text/x-python",
   "name": "python",
   "nbconvert_exporter": "python",
   "pygments_lexer": "ipython3",
   "version": "3.8.8"
  }
 },
 "nbformat": 4,
 "nbformat_minor": 5
}

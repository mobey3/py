{
 "cells": [
  {
   "cell_type": "code",
   "execution_count": null,
   "metadata": {},
   "outputs": [],
   "source": [
    "def fac(r):\n",
    "    k = 1\n",
    "    for i in range(1,a+1):\n",
    "        k *= i \n",
    "        print(k)"
   ]
  },
  {
   "cell_type": "code",
   "execution_count": null,
   "metadata": {},
   "outputs": [],
   "source": [
    "a = int(input('입력:'))\n",
    "fac(a)"
   ]
  },
  {
   "cell_type": "code",
   "execution_count": null,
   "metadata": {},
   "outputs": [],
   "source": [
    "def fib(n):\n",
    "    num = 1\n",
    "    ae = 0\n",
    "    for x in range(n):\n",
    "        num,ae = ae,num+ae\n",
    "        print(ae)"
   ]
  },
  {
   "cell_type": "code",
   "execution_count": null,
   "metadata": {
    "scrolled": true
   },
   "outputs": [],
   "source": [
    "fib(6)"
   ]
  },
  {
   "cell_type": "code",
   "execution_count": 6,
   "metadata": {},
   "outputs": [],
   "source": [
    "def plus(b,e):\n",
    "    f = b + e\n",
    "    print(f)"
   ]
  },
  {
   "cell_type": "code",
   "execution_count": 7,
   "metadata": {},
   "outputs": [],
   "source": [
    "def minus(b,e):\n",
    "    f = b - e\n",
    "    print(f)"
   ]
  },
  {
   "cell_type": "code",
   "execution_count": 8,
   "metadata": {},
   "outputs": [],
   "source": [
    "def mul(b,e):\n",
    "    f = b * e\n",
    "    print(f)"
   ]
  },
  {
   "cell_type": "code",
   "execution_count": 9,
   "metadata": {},
   "outputs": [],
   "source": [
    "def div(b,e):\n",
    "    f = b / e\n",
    "    print(f)"
   ]
  },
  {
   "cell_type": "code",
   "execution_count": 10,
   "metadata": {},
   "outputs": [
    {
     "name": "stdout",
     "output_type": "stream",
     "text": [
      "1.+, 2.-, 3.*, 4./, 5.del, end.q: 3\n",
      "숫자:4\n",
      "숫자:1\n",
      "0\n",
      "1.+, 2.-, 3.*, 4./, 5.del, end.q: 1\n",
      "숫자:2\n",
      "숫자:3\n",
      "0\n",
      "1.+, 2.-, 3.*, 4./, 5.del, end.q: q\n"
     ]
    }
   ],
   "source": [
    " while True:\n",
    "    a = input(\"1.+, 2.-, 3.*, 4./, 5.del, end.q: \")\n",
    "    m = 0\n",
    "    if a == \"q\":\n",
    "        break\n",
    "    elif a == '1':\n",
    "        b = int(input('숫자:'))\n",
    "        e = int(input('숫자:'))\n",
    "        plus(b,e)\n",
    "        \n",
    "    elif a == '2':\n",
    "        b = int(input('숫자:'))\n",
    "        e = int(input('숫자:'))\n",
    "        minus(b,e)\n",
    "        \n",
    "    elif a == '3':\n",
    "        b = int(input('숫자:'))\n",
    "        e = int(input('숫자:'))\n",
    "        mul(b,e)\n",
    "        \n",
    "    elif a == '4':\n",
    "        b = int(input('숫자:'))\n",
    "        e = int(input('숫자:'))\n",
    "        div(b,e)\n",
    "    \n",
    "    else :\n",
    "        print(\"잘 못 입력했습니다.\")"
   ]
  },
  {
   "cell_type": "code",
   "execution_count": 6,
   "metadata": {
    "scrolled": true
   },
   "outputs": [
    {
     "name": "stdout",
     "output_type": "stream",
     "text": [
      "{'내가': 5, '꿈': 5, '찾아': 10, '행복': 5, '하루하루': 5, '살아가다가': 4, '만나버린': 5, '괴로웠던': 4, '순간들': 4, '이': 5, '또한': 5, '다': 5, '지나가리라': 5, '피할': 1, '수': 5, '없다면': 1, '즐겨라': 1, '퇴근길에': 1, '편의점': 1, '네개에': 1, '만원인': 1, '캔맥주': 1, '원플원': 1, '과자': 1, '두': 1, '봉': 1, '기다릴': 1, '울': 1, '냥이': 1, '통조림': 1, '간식': 1, '하나': 1, '세상': 1, '편한': 1, '차림으로': 1, '침대': 1, '위에': 1, '걸터앉아': 1, '최신': 1, '업뎃': 1, '영상': 1, '본다': 1, '눈': 1, '호강에': 1, '입': 1, '속': 1, '가득': 1, '찬': 1, '단짠의': 1, '조화': 1, '즐길': 4, '있을': 4, '거야': 4, '너는': 4, '좁은': 1, '방에': 1, '매트': 1, '깔고': 1, '생전': 1, '처음': 1, '해': 1, '본': 1, '요가': 1, '체중계에': 1, '올라서서': 1, '어제와': 1, '같은': 1, '몸무게에': 1, '안도하며': 1, '배달': 1, '앱에': 1, '단골': 1, '식당': 1, '요리조리': 1, '찾아보고': 2, '또': 1, '조리요리': 1, '이런': 1, '맛에': 1, '살지': 1, '내일도': 1, '일하러': 1, '간다': 1, '인생이': 1, '별건가요': 1, '똑같아요': 1, '열받고': 1, '힘들면': 1, '한잔하고': 1, '꿀잠': 1, '자고': 1, '그러다': 1, '웃고': 1, '살아가다': 1, '고민들': 1}\n"
     ]
    }
   ],
   "source": [
    "a = '''내가 꿈 찾아 행복 찾아 하루하루 살아가다가 만나버린 괴로웠던 순간들\n",
    "이 또한 다 지나가리라 피할 수 없다면 즐겨라\n",
    "퇴근길에 편의점 네 개에 만원인 캔맥주\n",
    "원플원 과자 두 봉 기다릴 울 냥이 통조림 간식 하나\n",
    "세상 편한 차림으로 침대 위에 걸터앉아\n",
    "최신 업뎃 영상 본다 눈 호강에 입 속 가득 찬 단짠의 조화\n",
    "내가 꿈 찾아 행복 찾아 하루하루 살아가다가 만나버린 괴로웠던 순간들\n",
    "이 또한 다 지나가리라 즐길 수 있을 거야 너는\n",
    "좁은 방에 매트 깔고 생전 처음 해 본 요가\n",
    "체중계에 올라서서 어제와 같은 몸무게에 안도하며\n",
    "배달 앱에 단골 식당 요리조리 찾아보고 또 조리요리 찾아보고\n",
    "이런 맛에 살지 내일도 일하러 간다\n",
    "내가 꿈 찾아 행복 찾아 하루하루 살아가다가 만나버린 괴로웠던 순간들\n",
    "이 또한 다 지나가리라 즐길 수 있을 거야 너는\n",
    "인생이 별건가요 똑같아요 열받고 힘들면 한잔하고 꿀잠 자고 그러다 웃고\n",
    "내가 꿈 찾아 행복 찾아 하루하루 살아가다가 만나버린 괴로웠던 순간들\n",
    "이 또한 다 지나가리라 즐길 수 있을 거야 너는\n",
    "내가 꿈 찾아 행복 찾아 하루하루 살아가다 만나버린 고민들\n",
    "이 또한 다 지나가리라 즐길 수 있을 거야 너는'''\n",
    "\n",
    "a = a.replace('\\n',' ')\n",
    "a = a.replace('네 개에','네개에')\n",
    "a = a.split(' ')\n",
    "\n",
    "avv = {b:a.count(b) for b in a}\n",
    "\n",
    "print((avv))\n",
    "\n"
   ]
  },
  {
   "cell_type": "code",
   "execution_count": null,
   "metadata": {},
   "outputs": [],
   "source": []
  }
 ],
 "metadata": {
  "kernelspec": {
   "display_name": "Python 3",
   "language": "python",
   "name": "python3"
  },
  "language_info": {
   "codemirror_mode": {
    "name": "ipython",
    "version": 3
   },
   "file_extension": ".py",
   "mimetype": "text/x-python",
   "name": "python",
   "nbconvert_exporter": "python",
   "pygments_lexer": "ipython3",
   "version": "3.8.5"
  }
 },
 "nbformat": 4,
 "nbformat_minor": 4
}

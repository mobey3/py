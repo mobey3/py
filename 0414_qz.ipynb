{
 "cells": [
  {
   "cell_type": "code",
   "execution_count": null,
   "metadata": {},
   "outputs": [],
   "source": [
    "def fac(r):\n",
    "    k = 1\n",
    "    for i in range(1,a+1):\n",
    "        k *= i \n",
    "        print(k)"
   ]
  },
  {
   "cell_type": "code",
   "execution_count": null,
   "metadata": {},
   "outputs": [],
   "source": [
    "a = int(input('입력:'))\n",
    "fac(a)"
   ]
  },
  {
   "cell_type": "code",
   "execution_count": null,
   "metadata": {},
   "outputs": [],
   "source": [
    "def fib(n):\n",
    "    num = 1\n",
    "    ae = 0\n",
    "    for x in range(n):\n",
    "        num,ae = ae,num+ae\n",
    "        print(ae)"
   ]
  },
  {
   "cell_type": "code",
   "execution_count": null,
   "metadata": {
    "scrolled": true
   },
   "outputs": [],
   "source": [
    "fib(6)"
   ]
  },
  {
   "cell_type": "code",
   "execution_count": 6,
   "metadata": {},
   "outputs": [],
   "source": [
    "def plus(b,e):\n",
    "    f = b + e\n",
    "    print(f)"
   ]
  },
  {
   "cell_type": "code",
   "execution_count": 7,
   "metadata": {},
   "outputs": [],
   "source": [
    "def minus(b,e):\n",
    "    f = b - e\n",
    "    print(f)"
   ]
  },
  {
   "cell_type": "code",
   "execution_count": 8,
   "metadata": {},
   "outputs": [],
   "source": [
    "def mul(b,e):\n",
    "    f = b * e\n",
    "    print(f)"
   ]
  },
  {
   "cell_type": "code",
   "execution_count": 9,
   "metadata": {},
   "outputs": [],
   "source": [
    "def div(b,e):\n",
    "    f = b / e\n",
    "    print(f)"
   ]
  },
  {
   "cell_type": "code",
   "execution_count": 10,
   "metadata": {},
   "outputs": [
    {
     "name": "stdout",
     "output_type": "stream",
     "text": [
      "1.+, 2.-, 3.*, 4./, 5.del, end.q: 3\n",
      "숫자:4\n",
      "숫자:1\n",
      "0\n",
      "1.+, 2.-, 3.*, 4./, 5.del, end.q: 1\n",
      "숫자:2\n",
      "숫자:3\n",
      "0\n",
      "1.+, 2.-, 3.*, 4./, 5.del, end.q: q\n"
     ]
    }
   ],
   "source": [
    " while True:\n",
    "    a = input(\"1.+, 2.-, 3.*, 4./, 5.del, end.q: \")\n",
    "    m = 0\n",
    "    if a == \"q\":\n",
    "        break\n",
    "    elif a == '1':\n",
    "        b = int(input('숫자:'))\n",
    "        e = int(input('숫자:'))\n",
    "        plus(b,e)\n",
    "        \n",
    "    elif a == '2':\n",
    "        b = int(input('숫자:'))\n",
    "        e = int(input('숫자:'))\n",
    "        minus(b,e)\n",
    "        \n",
    "    elif a == '3':\n",
    "        b = int(input('숫자:'))\n",
    "        e = int(input('숫자:'))\n",
    "        mul(b,e)\n",
    "        \n",
    "    elif a == '4':\n",
    "        b = int(input('숫자:'))\n",
    "        e = int(input('숫자:'))\n",
    "        div(b,e)\n",
    "    \n",
    "    else :\n",
    "        print(\"잘 못 입력했습니다.\")"
   ]
  },
  {
   "cell_type": "code",
   "execution_count": 26,
   "metadata": {},
   "outputs": [
    {
     "name": "stdout",
     "output_type": "stream",
     "text": [
      "['내가', '꿈', '찾아', '행복', '찾아', '하루하루', '살아가다가', '만나버린', '괴로웠던', '순간들', '이', '또한', '다', '지나가리라', '피할', '수', '없다면', '즐겨라', '퇴근길에', '편의점', '네개에', '만원인', '캔맥주', '원플원', '과자', '두', '봉', '기다릴', '울', '냥이', '통조림', '간식', '하나', '세상', '편한', '차림으로', '침대', '위에', '걸터앉아', '최신', '업뎃', '영상', '본다', '눈', '호강에', '입', '속', '가득', '찬', '단짠의', '조화', '내가', '꿈', '찾아', '행복', '찾아', '하루하루', '살아가다가', '만나버린', '괴로웠던', '순간들', '이', '또한', '다', '지나가리라', '즐길', '수', '있을', '거야', '너는', '좁은', '방에', '매트', '깔고', '생전', '처음', '해', '본', '요가', '체중계에', '올라서서', '어제와', '같은', '몸무게에', '안도하며', '배달', '앱에', '단골', '식당', '요리조리', '찾아보고', '또', '조리요리', '찾아보고', '이런', '맛에', '살지', '내일도', '일하러', '간다', '내가', '꿈', '찾아', '행복', '찾아', '하루하루', '살아가다가', '만나버린', '괴로웠던', '순간들', '이', '또한', '다', '지나가리라', '즐길', '수', '있을', '거야', '너는', '인생이', '별건가요', '똑같아요', '열받고', '힘들면', '한잔하고', '꿀잠', '자고', '그러다', '웃고', '내가', '꿈', '찾아', '행복', '찾아', '하루하루', '살아가다가', '만나버린', '괴로웠던', '순간들', '이', '또한', '다', '지나가리라', '즐길', '수', '있을', '거야', '너는', '내가', '꿈', '찾아', '행복', '찾아', '하루하루', '살아가다', '만나버린', '고민들', '이', '또한', '다', '지나가리라', '즐길', '수', '있을', '거야', '너는']\n"
     ]
    },
    {
     "ename": "TypeError",
     "evalue": "count() takes exactly one argument (0 given)",
     "output_type": "error",
     "traceback": [
      "\u001b[1;31m---------------------------------------------------------------------------\u001b[0m",
      "\u001b[1;31mTypeError\u001b[0m                                 Traceback (most recent call last)",
      "\u001b[1;32m<ipython-input-26-f9fda11bb3e3>\u001b[0m in \u001b[0;36m<module>\u001b[1;34m\u001b[0m\n\u001b[0;32m     24\u001b[0m \u001b[0mprint\u001b[0m\u001b[1;33m(\u001b[0m\u001b[0ma\u001b[0m\u001b[1;33m)\u001b[0m\u001b[1;33m\u001b[0m\u001b[1;33m\u001b[0m\u001b[0m\n\u001b[0;32m     25\u001b[0m \u001b[0mb\u001b[0m \u001b[1;33m=\u001b[0m \u001b[1;33m{\u001b[0m\u001b[1;33m}\u001b[0m\u001b[1;33m\u001b[0m\u001b[1;33m\u001b[0m\u001b[0m\n\u001b[1;32m---> 26\u001b[1;33m \u001b[0mb\u001b[0m \u001b[1;33m=\u001b[0m \u001b[0ma\u001b[0m\u001b[1;33m.\u001b[0m\u001b[0mcount\u001b[0m\u001b[1;33m(\u001b[0m\u001b[1;33m)\u001b[0m\u001b[1;33m\u001b[0m\u001b[1;33m\u001b[0m\u001b[0m\n\u001b[0m\u001b[0;32m     27\u001b[0m \u001b[0mprint\u001b[0m\u001b[1;33m(\u001b[0m\u001b[0mb\u001b[0m\u001b[1;33m)\u001b[0m\u001b[1;33m\u001b[0m\u001b[1;33m\u001b[0m\u001b[0m\n",
      "\u001b[1;31mTypeError\u001b[0m: count() takes exactly one argument (0 given)"
     ]
    }
   ],
   "source": [
    "a = '''내가 꿈 찾아 행복 찾아 하루하루 살아가다가 만나버린 괴로웠던 순간들\n",
    "이 또한 다 지나가리라 피할 수 없다면 즐겨라\n",
    "퇴근길에 편의점 네 개에 만원인 캔맥주\n",
    "원플원 과자 두 봉 기다릴 울 냥이 통조림 간식 하나\n",
    "세상 편한 차림으로 침대 위에 걸터앉아\n",
    "최신 업뎃 영상 본다 눈 호강에 입 속 가득 찬 단짠의 조화\n",
    "내가 꿈 찾아 행복 찾아 하루하루 살아가다가 만나버린 괴로웠던 순간들\n",
    "이 또한 다 지나가리라 즐길 수 있을 거야 너는\n",
    "좁은 방에 매트 깔고 생전 처음 해 본 요가\n",
    "체중계에 올라서서 어제와 같은 몸무게에 안도하며\n",
    "배달 앱에 단골 식당 요리조리 찾아보고 또 조리요리 찾아보고\n",
    "이런 맛에 살지 내일도 일하러 간다\n",
    "내가 꿈 찾아 행복 찾아 하루하루 살아가다가 만나버린 괴로웠던 순간들\n",
    "이 또한 다 지나가리라 즐길 수 있을 거야 너는\n",
    "인생이 별건가요 똑같아요 열받고 힘들면 한잔하고 꿀잠 자고 그러다 웃고\n",
    "내가 꿈 찾아 행복 찾아 하루하루 살아가다가 만나버린 괴로웠던 순간들\n",
    "이 또한 다 지나가리라 즐길 수 있을 거야 너는\n",
    "내가 꿈 찾아 행복 찾아 하루하루 살아가다 만나버린 고민들\n",
    "이 또한 다 지나가리라 즐길 수 있을 거야 너는'''\n",
    "\n",
    "a = a.replace('\\n',' ')\n",
    "a = a.replace('네 개에','네개에')\n",
    "a = a.split(' ')\n",
    "print(a)\n",
    "b = {}\n",
    "b = a.count\n",
    "print(b)\n"
   ]
  },
  {
   "cell_type": "code",
   "execution_count": null,
   "metadata": {},
   "outputs": [],
   "source": []
  }
 ],
 "metadata": {
  "kernelspec": {
   "display_name": "Python 3",
   "language": "python",
   "name": "python3"
  },
  "language_info": {
   "codemirror_mode": {
    "name": "ipython",
    "version": 3
   },
   "file_extension": ".py",
   "mimetype": "text/x-python",
   "name": "python",
   "nbconvert_exporter": "python",
   "pygments_lexer": "ipython3",
   "version": "3.8.5"
  }
 },
 "nbformat": 4,
 "nbformat_minor": 4
}

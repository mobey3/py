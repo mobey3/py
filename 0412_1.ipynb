{
 "cells": [
  {
   "cell_type": "code",
   "execution_count": 33,
   "metadata": {},
   "outputs": [
    {
     "name": "stdout",
     "output_type": "stream",
     "text": [
      "428\n",
      "['', 'Everything', 'I', 'ground', 'is', 'me', 'need', 'on', 'the', 'to']\n",
      "[58, 11, 21, 12, 11, 8, 11, 13, 17, 9]\n"
     ]
    }
   ],
   "source": [
    "a = '''My life's been magic, seems fantastic\n",
    "I used to have a hole in the wall with a mattress\n",
    "Funny when you want it, suddenly you have it\n",
    "You find out that your gold's just plastic\n",
    "Every day, every night\n",
    "I've been thinkin' back on you and I\n",
    "Every day, every night\n",
    "I worked my whole life\n",
    "Just to get right, just to be like\n",
    "\"Look at me, I'm never coming down\"\n",
    "I worked my whole life\n",
    "Just to get high, just to realize\n",
    "Everything I need is on the\n",
    "Everything I need is on the ground\n",
    "On the ground\n",
    "Everything I need is on the ground\n",
    "(Nah, but they don't hear me though)\n",
    "(Yeah, what goes up must come down)\n",
    "(Nah, but they don't hear me though)\n",
    "(You're runnin' out of time)\n",
    "My world's been hectic, seems electric\n",
    "But I've been waking up with your voice in my head\n",
    "And I'm tryna send a message and let you know that\n",
    "Every single minute I'm without you, I regret it\n",
    "Every day, every night\n",
    "I've been thinkin' back on you and I\n",
    "Every day, every night\n",
    "I worked my whole life\n",
    "Just to get right, just to be like\n",
    "\"Look at me, I'm never coming down\"\n",
    "I worked my whole life\n",
    "Just to get high, just to realize\n",
    "Everything I need is on the\n",
    "Everything I need is on the ground\n",
    "On the ground\n",
    "Everything I need is on the ground\n",
    "(Nah, but they don't hear me though)\n",
    "(Yeah, what goes up must come down)\n",
    "(Nah, but they don't hear me though)\n",
    "(You're runnin' out of time)\n",
    "I'm way up in the clouds\n",
    "And they say I've made it now\n",
    "But I figured it out\n",
    "Everything I need is on the ground (yeah, yeah)\n",
    "Just drove by your house (just drove by your house)\n",
    "So far from you now (so far from you now)\n",
    "But I figured it out\n",
    "Everything I need is on the\n",
    "Everything I need is on the ground\n",
    "On the ground\n",
    "Everything I need is on the ground\n",
    "(Nah, but they don't hear me though)\n",
    "On the ground\n",
    "(Nah, but they don't hear me though)\n",
    "Everything I need is on the ground '''\n",
    "\n",
    "k = a.replace(\"I've\",\"Ive\")\n",
    "k = k.replace(\"don't\",\"dont\")\n",
    "k = k.replace(\"I'm\", \"Im\")\n",
    "k = k.replace(\"\\n\",\" \")\n",
    "k = k.replace('\"', ' ')\n",
    "k = k.replace(\"'\", \" \")\n",
    "k = k.replace(\",\", \" \")\n",
    "k = k.replace(\")\", \" \")\n",
    "k = k.replace(\"(\", \" \")\n",
    "k = k.split(' ')\n",
    "k.sort()\n",
    "\n",
    "max = 0\n",
    "j = []\n",
    "u = []\n",
    "print(len(k))\n",
    "\n",
    "for m in k:\n",
    "    if m in j:\n",
    "        continue\n",
    "    if (max < k.count(m)):\n",
    "        max = k.count(m)\n",
    "    j.append(m)\n",
    "    u.append(k.count(m))\n",
    "    \n",
    "ac = sorted(u)\n",
    "ac = reversed(u)\n",
    "\n",
    "\n",
    "#print(u[:10])\n",
    "#print(j)\n",
    "\n",
    "cnt_a = []\n",
    "lis_s = []\n",
    "\n",
    "max_a = 7\n",
    "\n",
    "for x in k:\n",
    "    if x in lis_s:\n",
    "        continue\n",
    "    if (k.count(x) > max_a):\n",
    "        cnt_a.append(q.count(x))\n",
    "        lis_s.append(x)\n",
    "    \n",
    "print(lis_s[:10])\n",
    "print(cnt_a[:10])\n",
    "        \n",
    "#print(cnt_a)\n"
   ]
  },
  {
   "cell_type": "code",
   "execution_count": 40,
   "metadata": {},
   "outputs": [
    {
     "name": "stdout",
     "output_type": "stream",
     "text": [
      "apple banana\n",
      "apple banana\n"
     ]
    }
   ],
   "source": [
    "a = 'apple'\n",
    "b = 'banana'\n",
    "print(a+' '+b)\n",
    "print(a,b)"
   ]
  },
  {
   "cell_type": "code",
   "execution_count": 66,
   "metadata": {},
   "outputs": [],
   "source": [
    "#number_list = []\n",
    "#for number in range(1,6):\n",
    "#    number_list.append(number)\n",
    "#print(number_list)"
   ]
  },
  {
   "cell_type": "code",
   "execution_count": 47,
   "metadata": {},
   "outputs": [
    {
     "name": "stdout",
     "output_type": "stream",
     "text": [
      "[1, 3, 5]\n"
     ]
    }
   ],
   "source": [
    "a_list = [number for number in range(1,6) if number % 2 == 1]\n",
    "print(a_list)"
   ]
  },
  {
   "cell_type": "code",
   "execution_count": 78,
   "metadata": {},
   "outputs": [
    {
     "name": "stdout",
     "output_type": "stream",
     "text": [
      "<class 'generator'>\n",
      "1\n",
      "2\n",
      "3\n",
      "4\n",
      "5\n"
     ]
    }
   ],
   "source": [
    "number_thing = (number for number in range(1,6))\n",
    "print(type(number_thing))\n",
    "\n",
    "\n",
    "for x in number_thing:\n",
    "    print(x)"
   ]
  },
  {
   "cell_type": "code",
   "execution_count": 77,
   "metadata": {},
   "outputs": [
    {
     "name": "stdout",
     "output_type": "stream",
     "text": [
      "[0, 2, 4, 6, 8]\n"
     ]
    }
   ],
   "source": [
    "a_list = [num for num in range(10) if num % 2 ==0]\n",
    "print(a_list)"
   ]
  }
 ],
 "metadata": {
  "kernelspec": {
   "display_name": "Python 3",
   "language": "python",
   "name": "python3"
  },
  "language_info": {
   "codemirror_mode": {
    "name": "ipython",
    "version": 3
   },
   "file_extension": ".py",
   "mimetype": "text/x-python",
   "name": "python",
   "nbconvert_exporter": "python",
   "pygments_lexer": "ipython3",
   "version": "3.8.5"
  }
 },
 "nbformat": 4,
 "nbformat_minor": 4
}

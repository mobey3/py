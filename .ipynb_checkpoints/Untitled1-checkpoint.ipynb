{
 "cells": [
  {
   "cell_type": "code",
   "execution_count": null,
   "metadata": {},
   "outputs": [],
   "source": [
    "import requests\n",
    "from bs4 import BeautifulSoup\n",
    "\n",
    "url = \"https://ncv.kdca.go.kr/mainStatus.es?mid=a11702000000\"\n",
    "htmlText = requests.get(url).text\n",
    "bsoup = BeautifulSoup(htmlText, \"html.parser\")\n",
    "btab = bsoup.find_all(\"tr\")\n",
    "btrs = btab[7:]\n",
    "# btdcols = btrs[1].find_all(\"td\",{\"class\":\"tdcol\"})\n",
    "# btds = btrs[0].find_all(\"td\")\n",
    "\n",
    "# passengers = []\n",
    "\n",
    "\n",
    "# for tr in btrs[1:]:\n",
    "#     dic = {}\n",
    "#     tds = tr.find_all(\"td\")\n",
    "#     dic['station'] = tds[0].text\n",
    "#     dic['ride'] = tds[2].text\n",
    "#     dic['alight'] = tds[3].text\n",
    "#     passengers.append(dic)"
   ]
  },
  {
   "cell_type": "code",
   "execution_count": null,
   "metadata": {},
   "outputs": [],
   "source": [
    "btrs"
   ]
  },
  {
   "cell_type": "code",
   "execution_count": null,
   "metadata": {},
   "outputs": [],
   "source": []
  }
 ],
 "metadata": {
  "kernelspec": {
   "display_name": "Python 3",
   "language": "python",
   "name": "python3"
  },
  "language_info": {
   "codemirror_mode": {
    "name": "ipython",
    "version": 3
   },
   "file_extension": ".py",
   "mimetype": "text/x-python",
   "name": "python",
   "nbconvert_exporter": "python",
   "pygments_lexer": "ipython3",
   "version": "3.8.5"
  }
 },
 "nbformat": 4,
 "nbformat_minor": 4
}

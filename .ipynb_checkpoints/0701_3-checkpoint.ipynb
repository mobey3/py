{
 "cells": [
  {
   "cell_type": "code",
   "execution_count": 93,
   "metadata": {},
   "outputs": [],
   "source": [
    "import requests\n",
    "from bs4 import BeautifulSoup  #requests , BeautifulSoup 라이브러리 \n",
    "                                # requests <= 주소에서 소스 가져오는 라이브러리\n",
    "\n",
    "url = \"https://www.op.gg/champion/statistics\"\n",
    "htmlText = requests.get(url).text\n",
    "bsoup = BeautifulSoup(htmlText, \"html.parser\")\n",
    "btab = bsoup.find(\"tbody\", {\"class\" : \"tabItem champion-trend-tier-TOP\"})\n",
    "btrs = btab.find(\"tr\").find_all(\"a\")\n",
    "btdcols = btrs[1].find_all(\"div\",{\"class\":\"champion-index-table__name\"})\n",
    "\n",
    "\n",
    "passengers = []\n",
    "\n",
    "for tr in btrs[1:]:\n",
    "    dic = {}\n",
    "    tds = tr.find_all(\"div\")\n",
    "    dic['champion'] = tds[0].text\n",
    "    dic['position'] = tds[1].text.replace(\"\\t\",\"\")\n",
    "\n",
    "    passengers.append(dic)"
   ]
  },
  {
   "cell_type": "code",
   "execution_count": 94,
   "metadata": {},
   "outputs": [
    {
     "data": {
      "text/plain": [
       "{'champion': 'Nocturne', 'position': '\\nJungle, Top, Middle'}"
      ]
     },
     "execution_count": 94,
     "metadata": {},
     "output_type": "execute_result"
    }
   ],
   "source": [
    "dic"
   ]
  },
  {
   "cell_type": "code",
   "execution_count": null,
   "metadata": {},
   "outputs": [],
   "source": []
  }
 ],
 "metadata": {
  "kernelspec": {
   "display_name": "Python 3",
   "language": "python",
   "name": "python3"
  },
  "language_info": {
   "codemirror_mode": {
    "name": "ipython",
    "version": 3
   },
   "file_extension": ".py",
   "mimetype": "text/x-python",
   "name": "python",
   "nbconvert_exporter": "python",
   "pygments_lexer": "ipython3",
   "version": "3.8.5"
  }
 },
 "nbformat": 4,
 "nbformat_minor": 4
}

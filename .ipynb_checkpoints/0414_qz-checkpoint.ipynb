{
 "cells": [
  {
   "cell_type": "code",
   "execution_count": null,
   "metadata": {},
   "outputs": [],
   "source": [
    "def fac(r):\n",
    "    k = 1\n",
    "    for i in range(1,a+1):\n",
    "        k *= i \n",
    "        print(k)"
   ]
  },
  {
   "cell_type": "code",
   "execution_count": null,
   "metadata": {},
   "outputs": [],
   "source": [
    "a = int(input('입력:'))\n",
    "fac(a)"
   ]
  },
  {
   "cell_type": "code",
   "execution_count": null,
   "metadata": {},
   "outputs": [],
   "source": [
    "def fib(n):\n",
    "    num = 1\n",
    "    ae = 0\n",
    "    for x in range(n):\n",
    "        num,ae = ae,num+ae\n",
    "        print(ae)"
   ]
  },
  {
   "cell_type": "code",
   "execution_count": null,
   "metadata": {
    "scrolled": true
   },
   "outputs": [],
   "source": [
    "fib(6)"
   ]
  },
  {
   "cell_type": "code",
   "execution_count": 6,
   "metadata": {},
   "outputs": [],
   "source": [
    "def plus(b,e):\n",
    "    f = b + e\n",
    "    print(f)"
   ]
  },
  {
   "cell_type": "code",
   "execution_count": 7,
   "metadata": {},
   "outputs": [],
   "source": [
    "def minus(b,e):\n",
    "    f = b - e\n",
    "    print(f)"
   ]
  },
  {
   "cell_type": "code",
   "execution_count": 8,
   "metadata": {},
   "outputs": [],
   "source": [
    "def mul(b,e):\n",
    "    f = b * e\n",
    "    print(f)"
   ]
  },
  {
   "cell_type": "code",
   "execution_count": 9,
   "metadata": {},
   "outputs": [],
   "source": [
    "def div(b,e):\n",
    "    f = b / e\n",
    "    print(f)"
   ]
  },
  {
   "cell_type": "code",
   "execution_count": 10,
   "metadata": {},
   "outputs": [
    {
     "name": "stdout",
     "output_type": "stream",
     "text": [
      "1.+, 2.-, 3.*, 4./, 5.del, end.q: 3\n",
      "숫자:4\n",
      "숫자:1\n",
      "0\n",
      "1.+, 2.-, 3.*, 4./, 5.del, end.q: 1\n",
      "숫자:2\n",
      "숫자:3\n",
      "0\n",
      "1.+, 2.-, 3.*, 4./, 5.del, end.q: q\n"
     ]
    }
   ],
   "source": [
    " while True:\n",
    "    a = input(\"1.+, 2.-, 3.*, 4./, 5.del, end.q: \")\n",
    "    m = 0\n",
    "    if a == \"q\":\n",
    "        break\n",
    "    elif a == '1':\n",
    "        b = int(input('숫자:'))\n",
    "        e = int(input('숫자:'))\n",
    "        plus(b,e)\n",
    "        \n",
    "    elif a == '2':\n",
    "        b = int(input('숫자:'))\n",
    "        e = int(input('숫자:'))\n",
    "        minus(b,e)\n",
    "        \n",
    "    elif a == '3':\n",
    "        b = int(input('숫자:'))\n",
    "        e = int(input('숫자:'))\n",
    "        mul(b,e)\n",
    "        \n",
    "    elif a == '4':\n",
    "        b = int(input('숫자:'))\n",
    "        e = int(input('숫자:'))\n",
    "        div(b,e)\n",
    "    \n",
    "    else :\n",
    "        print(\"잘 못 입력했습니다.\")"
   ]
  },
  {
   "cell_type": "code",
   "execution_count": 2,
   "metadata": {},
   "outputs": [
    {
     "name": "stdout",
     "output_type": "stream",
     "text": [
      "{'내가': <built-in method count of list object at 0x000001BFA55BEDC0>, '꿈': <built-in method count of list object at 0x000001BFA55BEDC0>, '찾아': <built-in method count of list object at 0x000001BFA55BEDC0>, '행복': <built-in method count of list object at 0x000001BFA55BEDC0>, '하루하루': <built-in method count of list object at 0x000001BFA55BEDC0>, '살아가다가': <built-in method count of list object at 0x000001BFA55BEDC0>, '만나버린': <built-in method count of list object at 0x000001BFA55BEDC0>, '괴로웠던': <built-in method count of list object at 0x000001BFA55BEDC0>, '순간들': <built-in method count of list object at 0x000001BFA55BEDC0>, '이': <built-in method count of list object at 0x000001BFA55BEDC0>, '또한': <built-in method count of list object at 0x000001BFA55BEDC0>, '다': <built-in method count of list object at 0x000001BFA55BEDC0>, '지나가리라': <built-in method count of list object at 0x000001BFA55BEDC0>, '피할': <built-in method count of list object at 0x000001BFA55BEDC0>, '수': <built-in method count of list object at 0x000001BFA55BEDC0>, '없다면': <built-in method count of list object at 0x000001BFA55BEDC0>, '즐겨라': <built-in method count of list object at 0x000001BFA55BEDC0>, '퇴근길에': <built-in method count of list object at 0x000001BFA55BEDC0>, '편의점': <built-in method count of list object at 0x000001BFA55BEDC0>, '네개에': <built-in method count of list object at 0x000001BFA55BEDC0>, '만원인': <built-in method count of list object at 0x000001BFA55BEDC0>, '캔맥주': <built-in method count of list object at 0x000001BFA55BEDC0>, '원플원': <built-in method count of list object at 0x000001BFA55BEDC0>, '과자': <built-in method count of list object at 0x000001BFA55BEDC0>, '두': <built-in method count of list object at 0x000001BFA55BEDC0>, '봉': <built-in method count of list object at 0x000001BFA55BEDC0>, '기다릴': <built-in method count of list object at 0x000001BFA55BEDC0>, '울': <built-in method count of list object at 0x000001BFA55BEDC0>, '냥이': <built-in method count of list object at 0x000001BFA55BEDC0>, '통조림': <built-in method count of list object at 0x000001BFA55BEDC0>, '간식': <built-in method count of list object at 0x000001BFA55BEDC0>, '하나': <built-in method count of list object at 0x000001BFA55BEDC0>, '세상': <built-in method count of list object at 0x000001BFA55BEDC0>, '편한': <built-in method count of list object at 0x000001BFA55BEDC0>, '차림으로': <built-in method count of list object at 0x000001BFA55BEDC0>, '침대': <built-in method count of list object at 0x000001BFA55BEDC0>, '위에': <built-in method count of list object at 0x000001BFA55BEDC0>, '걸터앉아': <built-in method count of list object at 0x000001BFA55BEDC0>, '최신': <built-in method count of list object at 0x000001BFA55BEDC0>, '업뎃': <built-in method count of list object at 0x000001BFA55BEDC0>, '영상': <built-in method count of list object at 0x000001BFA55BEDC0>, '본다': <built-in method count of list object at 0x000001BFA55BEDC0>, '눈': <built-in method count of list object at 0x000001BFA55BEDC0>, '호강에': <built-in method count of list object at 0x000001BFA55BEDC0>, '입': <built-in method count of list object at 0x000001BFA55BEDC0>, '속': <built-in method count of list object at 0x000001BFA55BEDC0>, '가득': <built-in method count of list object at 0x000001BFA55BEDC0>, '찬': <built-in method count of list object at 0x000001BFA55BEDC0>, '단짠의': <built-in method count of list object at 0x000001BFA55BEDC0>, '조화': <built-in method count of list object at 0x000001BFA55BEDC0>, '즐길': <built-in method count of list object at 0x000001BFA55BEDC0>, '있을': <built-in method count of list object at 0x000001BFA55BEDC0>, '거야': <built-in method count of list object at 0x000001BFA55BEDC0>, '너는': <built-in method count of list object at 0x000001BFA55BEDC0>, '좁은': <built-in method count of list object at 0x000001BFA55BEDC0>, '방에': <built-in method count of list object at 0x000001BFA55BEDC0>, '매트': <built-in method count of list object at 0x000001BFA55BEDC0>, '깔고': <built-in method count of list object at 0x000001BFA55BEDC0>, '생전': <built-in method count of list object at 0x000001BFA55BEDC0>, '처음': <built-in method count of list object at 0x000001BFA55BEDC0>, '해': <built-in method count of list object at 0x000001BFA55BEDC0>, '본': <built-in method count of list object at 0x000001BFA55BEDC0>, '요가': <built-in method count of list object at 0x000001BFA55BEDC0>, '체중계에': <built-in method count of list object at 0x000001BFA55BEDC0>, '올라서서': <built-in method count of list object at 0x000001BFA55BEDC0>, '어제와': <built-in method count of list object at 0x000001BFA55BEDC0>, '같은': <built-in method count of list object at 0x000001BFA55BEDC0>, '몸무게에': <built-in method count of list object at 0x000001BFA55BEDC0>, '안도하며': <built-in method count of list object at 0x000001BFA55BEDC0>, '배달': <built-in method count of list object at 0x000001BFA55BEDC0>, '앱에': <built-in method count of list object at 0x000001BFA55BEDC0>, '단골': <built-in method count of list object at 0x000001BFA55BEDC0>, '식당': <built-in method count of list object at 0x000001BFA55BEDC0>, '요리조리': <built-in method count of list object at 0x000001BFA55BEDC0>, '찾아보고': <built-in method count of list object at 0x000001BFA55BEDC0>, '또': <built-in method count of list object at 0x000001BFA55BEDC0>, '조리요리': <built-in method count of list object at 0x000001BFA55BEDC0>, '이런': <built-in method count of list object at 0x000001BFA55BEDC0>, '맛에': <built-in method count of list object at 0x000001BFA55BEDC0>, '살지': <built-in method count of list object at 0x000001BFA55BEDC0>, '내일도': <built-in method count of list object at 0x000001BFA55BEDC0>, '일하러': <built-in method count of list object at 0x000001BFA55BEDC0>, '간다': <built-in method count of list object at 0x000001BFA55BEDC0>, '인생이': <built-in method count of list object at 0x000001BFA55BEDC0>, '별건가요': <built-in method count of list object at 0x000001BFA55BEDC0>, '똑같아요': <built-in method count of list object at 0x000001BFA55BEDC0>, '열받고': <built-in method count of list object at 0x000001BFA55BEDC0>, '힘들면': <built-in method count of list object at 0x000001BFA55BEDC0>, '한잔하고': <built-in method count of list object at 0x000001BFA55BEDC0>, '꿀잠': <built-in method count of list object at 0x000001BFA55BEDC0>, '자고': <built-in method count of list object at 0x000001BFA55BEDC0>, '그러다': <built-in method count of list object at 0x000001BFA55BEDC0>, '웃고': <built-in method count of list object at 0x000001BFA55BEDC0>, '살아가다': <built-in method count of list object at 0x000001BFA55BEDC0>, '고민들': <built-in method count of list object at 0x000001BFA55BEDC0>}\n"
     ]
    }
   ],
   "source": [
    "a = '''내가 꿈 찾아 행복 찾아 하루하루 살아가다가 만나버린 괴로웠던 순간들\n",
    "이 또한 다 지나가리라 피할 수 없다면 즐겨라\n",
    "퇴근길에 편의점 네 개에 만원인 캔맥주\n",
    "원플원 과자 두 봉 기다릴 울 냥이 통조림 간식 하나\n",
    "세상 편한 차림으로 침대 위에 걸터앉아\n",
    "최신 업뎃 영상 본다 눈 호강에 입 속 가득 찬 단짠의 조화\n",
    "내가 꿈 찾아 행복 찾아 하루하루 살아가다가 만나버린 괴로웠던 순간들\n",
    "이 또한 다 지나가리라 즐길 수 있을 거야 너는\n",
    "좁은 방에 매트 깔고 생전 처음 해 본 요가\n",
    "체중계에 올라서서 어제와 같은 몸무게에 안도하며\n",
    "배달 앱에 단골 식당 요리조리 찾아보고 또 조리요리 찾아보고\n",
    "이런 맛에 살지 내일도 일하러 간다\n",
    "내가 꿈 찾아 행복 찾아 하루하루 살아가다가 만나버린 괴로웠던 순간들\n",
    "이 또한 다 지나가리라 즐길 수 있을 거야 너는\n",
    "인생이 별건가요 똑같아요 열받고 힘들면 한잔하고 꿀잠 자고 그러다 웃고\n",
    "내가 꿈 찾아 행복 찾아 하루하루 살아가다가 만나버린 괴로웠던 순간들\n",
    "이 또한 다 지나가리라 즐길 수 있을 거야 너는\n",
    "내가 꿈 찾아 행복 찾아 하루하루 살아가다 만나버린 고민들\n",
    "이 또한 다 지나가리라 즐길 수 있을 거야 너는'''\n",
    "\n",
    "a = a.replace('\\n',' ')\n",
    "a = a.replace('네 개에','네개에')\n",
    "a = a.split(' ')\n",
    "avv = {b:a.count for b in a}\n",
    "\n",
    "print((avv))\n",
    "\n"
   ]
  },
  {
   "cell_type": "code",
   "execution_count": null,
   "metadata": {},
   "outputs": [],
   "source": []
  }
 ],
 "metadata": {
  "kernelspec": {
   "display_name": "Python 3",
   "language": "python",
   "name": "python3"
  },
  "language_info": {
   "codemirror_mode": {
    "name": "ipython",
    "version": 3
   },
   "file_extension": ".py",
   "mimetype": "text/x-python",
   "name": "python",
   "nbconvert_exporter": "python",
   "pygments_lexer": "ipython3",
   "version": "3.8.5"
  }
 },
 "nbformat": 4,
 "nbformat_minor": 4
}

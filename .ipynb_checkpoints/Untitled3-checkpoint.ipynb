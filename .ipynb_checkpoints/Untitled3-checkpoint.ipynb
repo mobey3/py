{
 "cells": [
  {
   "cell_type": "code",
   "execution_count": 3,
   "metadata": {},
   "outputs": [],
   "source": [
    "def plus(b,e):\n",
    "    f = b + e\n",
    "    print(f)"
   ]
  },
  {
   "cell_type": "code",
   "execution_count": 4,
   "metadata": {},
   "outputs": [],
   "source": [
    "def minus(b,e):\n",
    "    f = b - e\n",
    "    print(f)"
   ]
  },
  {
   "cell_type": "code",
   "execution_count": 5,
   "metadata": {},
   "outputs": [],
   "source": [
    "def mul(b,e):\n",
    "    f = b * e\n",
    "    print(f)"
   ]
  },
  {
   "cell_type": "code",
   "execution_count": 6,
   "metadata": {},
   "outputs": [],
   "source": [
    "def div(b,e):\n",
    "    f = b / e\n",
    "    print(f)"
   ]
  },
  {
   "cell_type": "code",
   "execution_count": null,
   "metadata": {},
   "outputs": [
    {
     "name": "stdout",
     "output_type": "stream",
     "text": [
      "1.+, 2.-, 3.*, 4./, 5.del, end.q: 3\n",
      "숫자:4\n",
      "숫자:5\n",
      "20\n"
     ]
    }
   ],
   "source": [
    "while True:\n",
    "    a = input(\"1.+, 2.-, 3.*, 4./, 5.del, end.q: \")\n",
    "    m = 0\n",
    "    if a == \"q\":\n",
    "        break\n",
    "    elif a == '1':\n",
    "        b = int(input('숫자:'))\n",
    "        e = int(input('숫자:'))\n",
    "        plus(b,e)\n",
    "        \n",
    "    elif a == '2':\n",
    "        b = int(input('숫자:'))\n",
    "        e = int(input('숫자:'))\n",
    "        minus(b,e)\n",
    "        \n",
    "    elif a == '3':\n",
    "        b = int(input('숫자:'))\n",
    "        e = int(input('숫자:'))\n",
    "        mul(b,e)\n",
    "        \n",
    "    elif a == '4':\n",
    "        b = int(input('숫자:'))\n",
    "        e = int(input('숫자:'))\n",
    "        div(b,e)\n",
    "    \n",
    "    else :\n",
    "        print(\"잘 못 입력했습니다.\")"
   ]
  },
  {
   "cell_type": "code",
   "execution_count": null,
   "metadata": {},
   "outputs": [],
   "source": []
  }
 ],
 "metadata": {
  "kernelspec": {
   "display_name": "Python 3",
   "language": "python",
   "name": "python3"
  },
  "language_info": {
   "codemirror_mode": {
    "name": "ipython",
    "version": 3
   },
   "file_extension": ".py",
   "mimetype": "text/x-python",
   "name": "python",
   "nbconvert_exporter": "python",
   "pygments_lexer": "ipython3",
   "version": "3.8.5"
  }
 },
 "nbformat": 4,
 "nbformat_minor": 4
}

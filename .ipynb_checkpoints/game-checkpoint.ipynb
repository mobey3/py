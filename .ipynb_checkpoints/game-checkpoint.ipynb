{
 "cells": [
  {
   "cell_type": "code",
   "execution_count": 1,
   "metadata": {},
   "outputs": [
    {
     "ename": "IndentationError",
     "evalue": "unexpected indent (<ipython-input-1-c7ebb37eb7b7>, line 14)",
     "output_type": "error",
     "traceback": [
      "\u001b[1;36m  File \u001b[1;32m\"<ipython-input-1-c7ebb37eb7b7>\"\u001b[1;36m, line \u001b[1;32m14\u001b[0m\n\u001b[1;33m    if atk == '1':\u001b[0m\n\u001b[1;37m    ^\u001b[0m\n\u001b[1;31mIndentationError\u001b[0m\u001b[1;31m:\u001b[0m unexpected indent\n"
     ]
    }
   ],
   "source": [
    "import random\n",
    "class sudden_attack:\n",
    "    HP = 100\n",
    "    HP = PP\n",
    "    Armor = 100    \n",
    "    Armor = AM\n",
    "q = input(\"1.총 2.권총: \")\n",
    "    if q == 1:\n",
    "        def item_AK(self):\n",
    "            Damages = 35\n",
    "            print(\"AK(총)을 주웠습니다.\")\n",
    "        \n",
    "atk = input(\"1.공격 2.도망: \")        \n",
    "        if atk == '1':\n",
    "            def AK_attack(item_AK):\n",
    "                while True:\n",
    "                    if random(range(1,11)) <= 2:\n",
    "                        a = PP - random(range(1,16))\n",
    "                        b = AM - random(range(1,16))\n",
    "                                       \n",
    "                        if pp == 0:\n",
    "                            print(\"케릭터가 사망했습니다.\")\n",
    "                            break\n",
    "                        else:\n",
    "                            print(\"HP:%d Armor:%d\"%(a,b))\n",
    "                    elif random(range(1,11)) <= 5:\n",
    "                        a = PP - random(range(16,27))\n",
    "                        b = AM - random(range(16,35))\n",
    "                    \n",
    "                        if pp == 0:\n",
    "                            print(\"케릭터가 사망했습니다.\")\n",
    "                            break\n",
    "                        else:\n",
    "                            print(\"HP:%d Armor:%d\"%(a,b))\n",
    "                        \n",
    "                    elif random(range(1,11)) <=7:\n",
    "                        a = PP - random(range(27,35))\n",
    "                        b = AM - random(range(27,40))\n",
    "                    \n",
    "                        if pp == 0:\n",
    "                            print(\"케릭터가 사망했습니다.\")\n",
    "                            break\n",
    "                        else:\n",
    "                            print(\"HP:%d Armor:%d\"%(a,b))\n",
    "                        \n",
    "                    elif random(range(1,11)) == 8:\n",
    "                        a = PP - 100\n",
    "                        b = AM - 100\n",
    "                        print(\"헤드샷을 맞아 케릭터가 죽었습니다\")\n",
    "                        break\n",
    "                     \n",
    "                    else :\n",
    "                        print(\"맞추지 못했습니다.\")\n",
    "                        continue\n",
    "        else: \n",
    "            print(\"케릭터가 도망 쳤습니다.\")\n",
    "            \n",
    "else:         \n",
    "    def item_PM(self):\n",
    "        Damages = 46\n",
    "        print(\"Peacemaker(권총)을 주웠습니다.\")\n",
    "        \n",
    "atk = input(\"1.공격 2.도망: \")\n",
    "    if atk == '1':\n",
    "        def PM_attack(itme_PM):\n",
    "            while True:\n",
    "                if random(range(1,11)) <= 2:\n",
    "                    a = HP - random(range(1,20))\n",
    "                    b = Armor - random(range(1,20))\n",
    "                    print(\"팔or다리를 맞아 HP %d,Armor %d 줄었습니다. \"%(a,b))\n",
    "                elif random(range(1,11)) <= 5:\n",
    "                    a = HP - random(range(16,33))\n",
    "                    b = Armor - random(range(16,37))\n",
    "                    print(\"몸통을 맞아 HP %d,Armor %d 줄었습니다.\"%(a,b))\n",
    "                elif random(range(1,11)) <= 7:\n",
    "                    a = HP - random(range(33,46))\n",
    "                    b = Armor -random(range(37,46))\n",
    "                    print(\"상탄을 맞아 HP %d,Armor %d 줄었습니다.\"%(a,b))\n",
    "                elif random(range(1,11)) == 8:\n",
    "                    a = HP -100\n",
    "                    b = Armor -100\n",
    "                    print(\"헤드샷을 맞아 죽었습니다\")\n",
    "                else:\n",
    "                    print(\"맞추지 못했습니다.\")\n",
    "                    continue\n",
    "    else : \n",
    "        print(\"케릭터가 도망쳤습니다.\")"
   ]
  },
  {
   "cell_type": "code",
   "execution_count": 34,
   "metadata": {},
   "outputs": [
    {
     "data": {
      "text/plain": [
       "<__main__.sudden_attack at 0x1d00f729a00>"
      ]
     },
     "execution_count": 34,
     "metadata": {},
     "output_type": "execute_result"
    }
   ],
   "source": []
  },
  {
   "cell_type": "code",
   "execution_count": null,
   "metadata": {},
   "outputs": [],
   "source": []
  }
 ],
 "metadata": {
  "kernelspec": {
   "display_name": "Python 3",
   "language": "python",
   "name": "python3"
  },
  "language_info": {
   "codemirror_mode": {
    "name": "ipython",
    "version": 3
   },
   "file_extension": ".py",
   "mimetype": "text/x-python",
   "name": "python",
   "nbconvert_exporter": "python",
   "pygments_lexer": "ipython3",
   "version": "3.8.5"
  }
 },
 "nbformat": 4,
 "nbformat_minor": 4
}

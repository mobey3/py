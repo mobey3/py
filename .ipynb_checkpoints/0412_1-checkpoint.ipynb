{
 "cells": [
  {
   "cell_type": "code",
   "execution_count": 2,
   "metadata": {},
   "outputs": [
    {
     "name": "stdout",
     "output_type": "stream",
     "text": [
      "428\n",
      "[58, 2, 3, 5, 11, 1, 21, 5, 4, 5, 2, 2, 6, 4, 1, 2, 3, 3, 3, 2, 2, 2, 5, 6, 2, 1, 2, 2, 4, 6, 4, 2, 1, 4, 1, 2, 2, 1, 2, 4, 2, 1, 12, 2, 1, 6, 1, 2, 1, 2, 3, 11, 6, 6, 1, 1, 5, 2, 1, 1, 1, 8, 1, 1, 2, 5, 11, 2, 4, 3, 2, 13, 5, 1, 2, 2, 1, 2, 2, 3, 1, 2, 1, 1, 1, 1, 2, 17, 7, 2, 6, 2, 9, 1, 4, 1, 1, 1, 1, 1, 1, 2, 1, 4, 2, 1, 4, 1, 2, 8, 4]\n",
      "['', 'And', 'But', 'Every', 'Everything', 'Funny', 'I', 'Im', 'Ive', 'Just', 'Look', 'My', 'Nah', 'On', 'So', 'Yeah', 'You', 'a', 'and', 'at', 'back', 'be', 'been', 'but', 'by', 'clouds', 'come', 'coming', 'day', 'dont', 'down', 'drove', 'electric', 'every', 'fantastic', 'far', 'figured', 'find', 'from', 'get', 'goes', 'gold', 'ground', 'have', 'head', 'hear', 'hectic', 'high', 'hole', 'house', 'in', 'is', 'it', 'just', 'know', 'let', 'life', 'like', 'made', 'magic', 'mattress', 'me', 'message', 'minute', 'must', 'my', 'need', 'never', 'night', 'now', 'of', 'on', 'out', 'plastic', 're', 'realize', 'regret', 'right', 'runnin', 's', 'say', 'seems', 'send', 'single', 'so', 'suddenly', 'that', 'the', 'they', 'thinkin', 'though', 'time', 'to', 'tryna', 'up', 'used', 'voice', 'waking', 'wall', 'want', 'way', 'what', 'when', 'whole', 'with', 'without', 'worked', 'world', 'yeah', 'you', 'your']\n"
     ]
    },
    {
     "ename": "NameError",
     "evalue": "name 'q' is not defined",
     "output_type": "error",
     "traceback": [
      "\u001b[1;31m---------------------------------------------------------------------------\u001b[0m",
      "\u001b[1;31mNameError\u001b[0m                                 Traceback (most recent call last)",
      "\u001b[1;32m<ipython-input-2-2d53e0157d02>\u001b[0m in \u001b[0;36m<module>\u001b[1;34m\u001b[0m\n\u001b[0;32m     96\u001b[0m         \u001b[1;32mcontinue\u001b[0m\u001b[1;33m\u001b[0m\u001b[1;33m\u001b[0m\u001b[0m\n\u001b[0;32m     97\u001b[0m     \u001b[1;32mif\u001b[0m \u001b[1;33m(\u001b[0m\u001b[0mk\u001b[0m\u001b[1;33m.\u001b[0m\u001b[0mcount\u001b[0m\u001b[1;33m(\u001b[0m\u001b[0mx\u001b[0m\u001b[1;33m)\u001b[0m \u001b[1;33m>\u001b[0m \u001b[0mmax_a\u001b[0m\u001b[1;33m)\u001b[0m\u001b[1;33m:\u001b[0m\u001b[1;33m\u001b[0m\u001b[1;33m\u001b[0m\u001b[0m\n\u001b[1;32m---> 98\u001b[1;33m         \u001b[0mcnt_a\u001b[0m\u001b[1;33m.\u001b[0m\u001b[0mappend\u001b[0m\u001b[1;33m(\u001b[0m\u001b[0mq\u001b[0m\u001b[1;33m.\u001b[0m\u001b[0mcount\u001b[0m\u001b[1;33m(\u001b[0m\u001b[0mx\u001b[0m\u001b[1;33m)\u001b[0m\u001b[1;33m)\u001b[0m\u001b[1;33m\u001b[0m\u001b[1;33m\u001b[0m\u001b[0m\n\u001b[0m\u001b[0;32m     99\u001b[0m         \u001b[0mlis_s\u001b[0m\u001b[1;33m.\u001b[0m\u001b[0mappend\u001b[0m\u001b[1;33m(\u001b[0m\u001b[0mx\u001b[0m\u001b[1;33m)\u001b[0m\u001b[1;33m\u001b[0m\u001b[1;33m\u001b[0m\u001b[0m\n\u001b[0;32m    100\u001b[0m \u001b[1;33m\u001b[0m\u001b[0m\n",
      "\u001b[1;31mNameError\u001b[0m: name 'q' is not defined"
     ]
    }
   ],
   "source": [
    "a = '''My life's been magic, seems fantastic\n",
    "I used to have a hole in the wall with a mattress\n",
    "Funny when you want it, suddenly you have it\n",
    "You find out that your gold's just plastic\n",
    "Every day, every night\n",
    "I've been thinkin' back on you and I\n",
    "Every day, every night\n",
    "I worked my whole life\n",
    "Just to get right, just to be like\n",
    "\"Look at me, I'm never coming down\"\n",
    "I worked my whole life\n",
    "Just to get high, just to realize\n",
    "Everything I need is on the\n",
    "Everything I need is on the ground\n",
    "On the ground\n",
    "Everything I need is on the ground\n",
    "(Nah, but they don't hear me though)\n",
    "(Yeah, what goes up must come down)\n",
    "(Nah, but they don't hear me though)\n",
    "(You're runnin' out of time)\n",
    "My world's been hectic, seems electric\n",
    "But I've been waking up with your voice in my head\n",
    "And I'm tryna send a message and let you know that\n",
    "Every single minute I'm without you, I regret it\n",
    "Every day, every night\n",
    "I've been thinkin' back on you and I\n",
    "Every day, every night\n",
    "I worked my whole life\n",
    "Just to get right, just to be like\n",
    "\"Look at me, I'm never coming down\"\n",
    "I worked my whole life\n",
    "Just to get high, just to realize\n",
    "Everything I need is on the\n",
    "Everything I need is on the ground\n",
    "On the ground\n",
    "Everything I need is on the ground\n",
    "(Nah, but they don't hear me though)\n",
    "(Yeah, what goes up must come down)\n",
    "(Nah, but they don't hear me though)\n",
    "(You're runnin' out of time)\n",
    "I'm way up in the clouds\n",
    "And they say I've made it now\n",
    "But I figured it out\n",
    "Everything I need is on the ground (yeah, yeah)\n",
    "Just drove by your house (just drove by your house)\n",
    "So far from you now (so far from you now)\n",
    "But I figured it out\n",
    "Everything I need is on the\n",
    "Everything I need is on the ground\n",
    "On the ground\n",
    "Everything I need is on the ground\n",
    "(Nah, but they don't hear me though)\n",
    "On the ground\n",
    "(Nah, but they don't hear me though)\n",
    "Everything I need is on the ground '''\n",
    "\n",
    "k = a.replace(\"I've\",\"Ive\")\n",
    "k = k.replace(\"don't\",\"dont\")\n",
    "k = k.replace(\"I'm\", \"Im\")\n",
    "k = k.replace(\"\\n\",\" \")\n",
    "k = k.replace('\"', ' ')\n",
    "k = k.replace(\"'\", \" \")\n",
    "k = k.replace(\",\", \" \")\n",
    "k = k.replace(\")\", \" \")\n",
    "k = k.replace(\"(\", \" \")\n",
    "k = k.split(' ')\n",
    "k.sort()\n",
    "\n",
    "max = 0\n",
    "j = []\n",
    "u = []\n",
    "print(len(k))\n",
    "\n",
    "for m in k:\n",
    "    if m in j:\n",
    "        continue\n",
    "    if (max < k.count(m)):\n",
    "        max = k.count(m)\n",
    "    j.append(m)\n",
    "    u.append(k.count(m))\n",
    "    \n",
    "ac = sorted(u)\n",
    "ac = reversed(u)\n",
    "\n",
    "\n",
    "print(u)\n",
    "print(j)\n",
    "\n",
    "cnt_a = []\n",
    "lis_s = []\n",
    "\n",
    "max_a = 7\n",
    "\n",
    "for x in k:\n",
    "    if x in lis_s:\n",
    "        continue\n",
    "    if (k.count(x) > max_a):\n",
    "        cnt_a.append(q.count(x))\n",
    "        lis_s.append(x)\n",
    "    \n",
    "print(lis_s[:10])\n",
    "print(cnt_a[:10])\n",
    "        \n",
    "#print(cnt_a)\n"
   ]
  },
  {
   "cell_type": "code",
   "execution_count": 40,
   "metadata": {},
   "outputs": [
    {
     "name": "stdout",
     "output_type": "stream",
     "text": [
      "apple banana\n",
      "apple banana\n"
     ]
    }
   ],
   "source": [
    "a = 'apple'\n",
    "b = 'banana'\n",
    "print(a+' '+b)\n",
    "print(a,b)"
   ]
  },
  {
   "cell_type": "code",
   "execution_count": 66,
   "metadata": {},
   "outputs": [],
   "source": [
    "#number_list = []\n",
    "#for number in range(1,6):\n",
    "#    number_list.append(number)\n",
    "#print(number_list)"
   ]
  },
  {
   "cell_type": "code",
   "execution_count": 47,
   "metadata": {},
   "outputs": [
    {
     "name": "stdout",
     "output_type": "stream",
     "text": [
      "[1, 3, 5]\n"
     ]
    }
   ],
   "source": [
    "a_list = [number for number in range(1,6) if number % 2 == 1]\n",
    "print(a_list)"
   ]
  },
  {
   "cell_type": "code",
   "execution_count": 78,
   "metadata": {},
   "outputs": [
    {
     "name": "stdout",
     "output_type": "stream",
     "text": [
      "<class 'generator'>\n",
      "1\n",
      "2\n",
      "3\n",
      "4\n",
      "5\n"
     ]
    }
   ],
   "source": [
    "number_thing = (number for number in range(1,6))\n",
    "print(type(number_thing))\n",
    "\n",
    "\n",
    "for x in number_thing:\n",
    "    print(x)"
   ]
  },
  {
   "cell_type": "code",
   "execution_count": 77,
   "metadata": {},
   "outputs": [
    {
     "name": "stdout",
     "output_type": "stream",
     "text": [
      "[0, 2, 4, 6, 8]\n"
     ]
    }
   ],
   "source": [
    "a_list = [num for num in range(10) if num % 2 ==0]\n",
    "print(a_list)"
   ]
  }
 ],
 "metadata": {
  "kernelspec": {
   "display_name": "Python 3",
   "language": "python",
   "name": "python3"
  },
  "language_info": {
   "codemirror_mode": {
    "name": "ipython",
    "version": 3
   },
   "file_extension": ".py",
   "mimetype": "text/x-python",
   "name": "python",
   "nbconvert_exporter": "python",
   "pygments_lexer": "ipython3",
   "version": "3.8.5"
  }
 },
 "nbformat": 4,
 "nbformat_minor": 4
}

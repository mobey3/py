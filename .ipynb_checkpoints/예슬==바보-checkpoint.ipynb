{
 "cells": [
  {
   "cell_type": "code",
   "execution_count": 6,
   "metadata": {},
   "outputs": [
    {
     "ename": "AttributeError",
     "evalue": "'int' object has no attribute 'close'",
     "output_type": "error",
     "traceback": [
      "\u001b[1;31m---------------------------------------------------------------------------\u001b[0m",
      "\u001b[1;31mAttributeError\u001b[0m                            Traceback (most recent call last)",
      "\u001b[1;32m<ipython-input-6-54b0e8c3c8b5>\u001b[0m in \u001b[0;36m<module>\u001b[1;34m\u001b[0m\n\u001b[0;32m     53\u001b[0m \u001b[1;31m#print(\"총개수: %d\"%int(a+b+c+d+e+f+g+h+l+m+n+o+p+q))\u001b[0m\u001b[1;33m\u001b[0m\u001b[1;33m\u001b[0m\u001b[1;33m\u001b[0m\u001b[0m\n\u001b[0;32m     54\u001b[0m \u001b[1;33m\u001b[0m\u001b[0m\n\u001b[1;32m---> 55\u001b[1;33m \u001b[0mf\u001b[0m\u001b[1;33m.\u001b[0m\u001b[0mclose\u001b[0m\u001b[1;33m(\u001b[0m\u001b[1;33m)\u001b[0m\u001b[1;33m\u001b[0m\u001b[1;33m\u001b[0m\u001b[0m\n\u001b[0m",
      "\u001b[1;31mAttributeError\u001b[0m: 'int' object has no attribute 'close'"
     ]
    }
   ],
   "source": [
    "import csv\n",
    "f = open('210416.csv',encoding = 'cp949')\n",
    "data = csv.reader(f)\n",
    "header = next(data)\n",
    "\n",
    "a = 0\n",
    "b = 0 \n",
    "c = 0\n",
    "d = 0\n",
    "e = 0\n",
    "f = 0\n",
    "g = 0\n",
    "h = 0\n",
    "l = 0\n",
    "m = 0\n",
    "n = 0\n",
    "o = 0\n",
    "p = 0\n",
    "q = 0  \n",
    "\n",
    "for i in data:\n",
    "    \n",
    "    if \"서울\" in i[6]:  \n",
    "        a += 1\n",
    "    elif \"경기도\" in i[6] or \"경기\" in i[6]:\n",
    "        b += 1\n",
    "    elif \"인천\" in i[6]:\n",
    "        c += 1\n",
    "    elif \"대구\" in i[6]:\n",
    "        d += 1\n",
    "    elif \"경상\" in i[6] or \"경남\" in i[6] or \"경북\" in i[6]: \n",
    "        e += 1\n",
    "    elif \"울산\" in i[6]:\n",
    "        f += 1\n",
    "    elif \"부산\" in i[6]: \n",
    "        g += 1\n",
    "    elif \"대전\" in i[6]:\n",
    "        h += 1\n",
    "    elif \"충청\" in i[6] or \"충남\" in i[6] or \"충북\" in i[6]:\n",
    "        l += 1\n",
    "    elif \"세종\" in i[6]:\n",
    "        m += 1\n",
    "    elif \"전라\" in i[6] or \"전남\" in i[6] or \"전북\" in i[6] or \"전주\" in i[6]:\n",
    "        n += 1\n",
    "    elif \"광주\" in i[6]:\n",
    "        o += 1\n",
    "    elif \"강원도\" in i[6] or \"강원\" in i[6]:\n",
    "        p += 1\n",
    "    else :\n",
    "        q += 1\n",
    "        \n",
    "#print(\"서울:%d, 경기:%d, 인천:%d, 대구:%d, 경상도:%d, 울산:%d, 부산:%d, 대전:%d, 충청도:%d, 세종:%d, 전라도:%d, 광주:%d, 강원도:%d, 제주:%d\"%(a,b,c,d,e,f,g,h,l,m,n,o,p,q))\n",
    "#print(\"총개수: %d\"%int(a+b+c+d+e+f+g+h+l+m+n+o+p+q))\n",
    "\n",
    "f.close()\n"
   ]
  },
  {
   "cell_type": "code",
   "execution_count": null,
   "metadata": {},
   "outputs": [],
   "source": []
  }
 ],
 "metadata": {
  "kernelspec": {
   "display_name": "Python 3",
   "language": "python",
   "name": "python3"
  },
  "language_info": {
   "codemirror_mode": {
    "name": "ipython",
    "version": 3
   },
   "file_extension": ".py",
   "mimetype": "text/x-python",
   "name": "python",
   "nbconvert_exporter": "python",
   "pygments_lexer": "ipython3",
   "version": "3.8.5"
  }
 },
 "nbformat": 4,
 "nbformat_minor": 4
}

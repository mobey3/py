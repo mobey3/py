{
 "cells": [
  {
   "cell_type": "code",
   "execution_count": 3,
   "metadata": {},
   "outputs": [
    {
     "name": "stdout",
     "output_type": "stream",
     "text": [
      "Start GUI\n",
      "<__main__.GUI object at 0x0000021CC2BBE8E0>\n",
      "China\n",
      "Korea\n",
      "Korea\n",
      "Japan\n",
      "USA\n",
      "China\n",
      "China\n"
     ]
    }
   ],
   "source": [
    "from tkinter import*\n",
    "from tkinter.ttk import*\n",
    "\n",
    "\n",
    "class GUI:\n",
    "    def __init__(self,parent):\n",
    "        print ('Start GUI')\n",
    "        parent.geometry('200x100')\n",
    "\n",
    "        self.combo_str = StringVar()\n",
    "        self.location_combo = Combobox(parent, width = 10 , textvariable = self.combo_str )\n",
    "        self.location_combo['values'] = ['Korea' , 'Japan' , 'USA' , 'China']\n",
    "        self.location_combo.current(0)\n",
    "        self.location_combo.pack()\n",
    "\n",
    "        self.value_entry = Entry(parent, width = 10)\n",
    "        self.value_entry.pack()\n",
    "\n",
    "        self.btn = Button(parent, width = 10 , text = 'click' , command = self.language)\n",
    "        self.btn.pack()\n",
    "        print(self)\n",
    "\n",
    "    def language(self):\n",
    "        #country = self.combo_str.get()\n",
    "        country  = self.location_combo.get()\n",
    "        print (country)\n",
    "\n",
    "        if(country == 'Korea'):\n",
    "            self.value_entry.delete(0,END)\n",
    "            self.value_entry.insert(0,'Seoul')\n",
    "        elif(country == 'Japan'):\n",
    "            self.value_entry.delete(0,END)\n",
    "            self.value_entry.insert(0,'Tokyo')\n",
    "        elif(country == 'USA'):\n",
    "            self.value_entry.delete(0,END)\n",
    "            self.value_entry.insert(0,'Washington')\n",
    "        elif(country == 'China'):\n",
    "            self.value_entry.delete(0,END)\n",
    "            self.value_entry.insert(0,'Beijing')\n",
    "\n",
    "\n",
    "\n",
    "\n",
    "root = Tk()\n",
    "app = GUI(root)\n",
    "root.mainloop()"
   ]
  },
  {
   "cell_type": "code",
   "execution_count": null,
   "metadata": {},
   "outputs": [],
   "source": []
  }
 ],
 "metadata": {
  "kernelspec": {
   "display_name": "Python 3",
   "language": "python",
   "name": "python3"
  },
  "language_info": {
   "codemirror_mode": {
    "name": "ipython",
    "version": 3
   },
   "file_extension": ".py",
   "mimetype": "text/x-python",
   "name": "python",
   "nbconvert_exporter": "python",
   "pygments_lexer": "ipython3",
   "version": "3.8.5"
  }
 },
 "nbformat": 4,
 "nbformat_minor": 4
}

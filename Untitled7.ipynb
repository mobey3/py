{
 "cells": [
  {
   "cell_type": "code",
   "execution_count": 3,
   "metadata": {},
   "outputs": [
    {
     "name": "stderr",
     "output_type": "stream",
     "text": [
      "Exception in Tkinter callback\n",
      "Traceback (most recent call last):\n",
      "  File \"C:\\Users\\KB\\anaconda3\\lib\\tkinter\\__init__.py\", line 1883, in __call__\n",
      "    return self.func(*args)\n",
      "  File \"<ipython-input-3-d08395b3f19a>\", line 7, in conversion\n",
      "    inV = float(inValue.get())\n",
      "ValueError: could not convert string to float: ''\n",
      "Exception in Tkinter callback\n",
      "Traceback (most recent call last):\n",
      "  File \"C:\\Users\\KB\\anaconda3\\lib\\tkinter\\__init__.py\", line 1883, in __call__\n",
      "    return self.func(*args)\n",
      "  File \"<ipython-input-3-d08395b3f19a>\", line 7, in conversion\n",
      "    inV = float(inValue.get())\n",
      "ValueError: could not convert string to float: ''\n"
     ]
    }
   ],
   "source": [
    "from tkinter import *\n",
    "from tkinter import ttk\n",
    "\n",
    "# ze la programma.\n",
    "def conversion(*args):\n",
    "# this is the numerical value\n",
    "    inV = float(inValue.get())\n",
    "# these two are the unit (farads, microfarads, etc.) values\n",
    "    inU = inUnitsValue.current()\n",
    "    outU = outUnitsValue.current()\n",
    "\n",
    "# \"mltplr\" is multiplied times inValue (inV)\n",
    "    if inU == outU:\n",
    "        mltplr = 1\n",
    "    else:\n",
    "        mltplr = 10**((outU - inU)*3)\n",
    "        outValue.set(inV*mltplr)\n",
    "\n",
    "# start of GUI code\n",
    "root = Tk()\n",
    "root.title(\"What the Farad?\")\n",
    "\n",
    "# frame\n",
    "mainFrame = ttk.Frame(root, width=\"364\", padding=\"4 4 8 8\")\n",
    "mainFrame.grid(column=0, row=0)\n",
    "\n",
    "# input entry\n",
    "inValue = StringVar()\n",
    "inValueEntry = ttk.Entry(mainFrame, width=\"20\", justify=\"right\", textvariable=inValue)\n",
    "inValueEntry.grid(column=1, row=1, sticky=\"W\")\n",
    "\n",
    "# input unit combobox\n",
    "inUnitsValue = ttk.Combobox(mainFrame)\n",
    "inUnitsValue['values'] = ('kilofarads (kF)', 'farads (F)', 'millifarads (mF)', 'microfarads (uF)', 'nanofarads (nF)', 'picofarads (pF)')\n",
    "inUnitsValue.grid(column=2, row=1, sticky=\"e\")\n",
    "inUnitsValue.state(['readonly'])\n",
    "inUnitsValue.bind('<<ComboboxSelected>>', conversion)\n",
    "\n",
    "# result label\n",
    "outValue = StringVar()\n",
    "resultLabel = ttk.Label(mainFrame, textvariable=outValue)\n",
    "resultLabel.grid(column=1, row=2, sticky=\"e\")\n",
    "\n",
    "# output unit combobox\n",
    "outUnitsValue = ttk.Combobox(mainFrame)\n",
    "outUnitsValue['values'] = ('kilofarads (kF)', 'farads (F)', 'millifarads (mF)', 'microfarads (uF)', 'nanofarads (nF)', 'picofarads (pF)')\n",
    "outUnitsValue.grid(column=2, row=2, sticky=\"e\")\n",
    "outUnitsValue.state(['readonly'])\n",
    "outUnitsValue.bind('<<ComboboxSelected>>', conversion)\n",
    "\n",
    "# padding for widgets\n",
    "for child in mainFrame.winfo_children(): child.grid_configure(padx=4, pady=4)\n",
    "\n",
    "# focus\n",
    "inValueEntry.focus()\n",
    "\n",
    "# bind keys to convert (auto-update, no button)\n",
    "root.bind('<KeyRelease>', conversion)\n",
    "\n",
    "root.mainloop()"
   ]
  },
  {
   "cell_type": "code",
   "execution_count": null,
   "metadata": {},
   "outputs": [],
   "source": []
  }
 ],
 "metadata": {
  "kernelspec": {
   "display_name": "Python 3",
   "language": "python",
   "name": "python3"
  },
  "language_info": {
   "codemirror_mode": {
    "name": "ipython",
    "version": 3
   },
   "file_extension": ".py",
   "mimetype": "text/x-python",
   "name": "python",
   "nbconvert_exporter": "python",
   "pygments_lexer": "ipython3",
   "version": "3.8.5"
  }
 },
 "nbformat": 4,
 "nbformat_minor": 4
}

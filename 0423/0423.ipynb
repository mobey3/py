{
 "cells": [
  {
   "cell_type": "code",
   "execution_count": 78,
   "metadata": {},
   "outputs": [
    {
     "name": "stdout",
     "output_type": "stream",
     "text": [
      "   사례수    증가\n",
      "0  999  78.9\n",
      "1  965  68.5\n",
      "2  973  65.7\n",
      "3  662  46.8\n",
      "4  687  35.5\n",
      "5  776  31.3\n",
      "6  552  17.6\n",
      "0  762  65.5\n",
      "1  992  63.7\n",
      "2  855  62.5\n",
      "3  941  57.8\n",
      "4  978  54.9\n",
      "5  955  46.6\n",
      "6  817  43.7\n",
      "[]\n"
     ]
    }
   ],
   "source": [
    "import csv\n",
    "import numpy as np\n",
    "import pandas as pd \n",
    "\n",
    "\n",
    "data_1 = pd.read_csv('Daily routine_1.csv',encoding = 'cp949') # csv 파일을 pandas로 불러오기\n",
    "# data.to_csv('Daegu.csv') #csv 파일로 저장하기\n",
    "data_2 = pd.read_csv('Daily routine_2.csv',encoding = 'cp949')\n",
    "data_3 = pd.read_csv('Daily routine_3.csv',encoding = 'cp949')\n",
    "\n",
    "# print(data_1)\n",
    "# print(data_2)\n",
    "# print(data_3)\n",
    "data_list = []\n",
    "data_4 = pd.concat([data_1,data_2],axis=0)\n",
    "\n",
    "Daily = np.array(data_4)\n",
    "Daily_1 = np.array(data_3)\n",
    "\n",
    "#print(type(data_4))\n",
    "# print(Daily)\n",
    "# print(Daily_1)\n",
    "#print(Daily.shape)   행열 알아보는 방법\n",
    "\n",
    "#print(data_list)\n",
    "#data_list = float(data_4.iloc[:,1:3])# 데이터를 인덱싱 슬라이싱하는 것처럼 추출하는 메서드\n",
    "\n",
    "#a = data_4.loc[:,'증가'] #iloc랑 비슷 하지만 헤더'()' 써줘야됨\n",
    "print(data_4.iloc[:,1:3])\n",
    "\n",
    "print(data_list)\n",
    "\n",
    "#print(a)\n",
    "\n",
    "\n",
    "#for i in data_4:\n",
    "#     if a > 60:\n",
    "#         print(a)\n",
    "        "
   ]
  },
  {
   "cell_type": "code",
   "execution_count": null,
   "metadata": {},
   "outputs": [],
   "source": []
  }
 ],
 "metadata": {
  "kernelspec": {
   "display_name": "Python 3",
   "language": "python",
   "name": "python3"
  },
  "language_info": {
   "codemirror_mode": {
    "name": "ipython",
    "version": 3
   },
   "file_extension": ".py",
   "mimetype": "text/x-python",
   "name": "python",
   "nbconvert_exporter": "python",
   "pygments_lexer": "ipython3",
   "version": "3.8.5"
  }
 },
 "nbformat": 4,
 "nbformat_minor": 4
}

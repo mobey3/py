{
 "cells": [
  {
   "cell_type": "code",
   "execution_count": 2,
   "metadata": {},
   "outputs": [],
   "source": [
    "import tkinter as tk\n",
    "from tkinter import ttk\n",
    "root = tk.Tk()\n",
    "l1 = {\"Excel A\":[\"Column A\",\"Column B\",\"Column C\"],\"Excel B\":[\"Column 1\",\"Column 2\"]} #make a dict from your excel & sheet names\n",
    "a = ttk.Combobox(root,value=[k for k in l1],state=\"readonly\")\n",
    "a.pack()\n",
    "b = ttk.Combobox(root,state=\"readonly\")\n",
    "b.pack()\n",
    "def change_box(event=None):\n",
    "    b[\"values\"] = l1.get(a.get())\n",
    "    b.current(0)\n",
    "a.bind(\"<<ComboboxSelected>>\",change_box)\n",
    "root.mainloop()"
   ]
  },
  {
   "cell_type": "code",
   "execution_count": null,
   "metadata": {},
   "outputs": [],
   "source": []
  }
 ],
 "metadata": {
  "kernelspec": {
   "display_name": "Python 3",
   "language": "python",
   "name": "python3"
  },
  "language_info": {
   "codemirror_mode": {
    "name": "ipython",
    "version": 3
   },
   "file_extension": ".py",
   "mimetype": "text/x-python",
   "name": "python",
   "nbconvert_exporter": "python",
   "pygments_lexer": "ipython3",
   "version": "3.8.5"
  }
 },
 "nbformat": 4,
 "nbformat_minor": 4
}

{
 "cells": [
  {
   "cell_type": "code",
   "execution_count": 5,
   "metadata": {},
   "outputs": [
    {
     "ename": "AttributeError",
     "evalue": "'NoneType' object has no attribute 'find_all'",
     "output_type": "error",
     "traceback": [
      "\u001b[1;31m---------------------------------------------------------------------------\u001b[0m",
      "\u001b[1;31mAttributeError\u001b[0m                            Traceback (most recent call last)",
      "\u001b[1;32m<ipython-input-5-a13f26935442>\u001b[0m in \u001b[0;36m<module>\u001b[1;34m\u001b[0m\n\u001b[0;32m      6\u001b[0m \u001b[0mbsoup\u001b[0m \u001b[1;33m=\u001b[0m \u001b[0mBeautifulSoup\u001b[0m\u001b[1;33m(\u001b[0m\u001b[0mhtmlText\u001b[0m\u001b[1;33m,\u001b[0m \u001b[1;34m\"html.parser\"\u001b[0m\u001b[1;33m)\u001b[0m\u001b[1;33m\u001b[0m\u001b[1;33m\u001b[0m\u001b[0m\n\u001b[0;32m      7\u001b[0m \u001b[0mbtab\u001b[0m \u001b[1;33m=\u001b[0m \u001b[0mbsoup\u001b[0m\u001b[1;33m.\u001b[0m\u001b[0mfind\u001b[0m\u001b[1;33m(\u001b[0m\u001b[1;34m\"tbody\"\u001b[0m\u001b[1;33m,\u001b[0m \u001b[1;33m{\u001b[0m\u001b[1;34m\"class\"\u001b[0m \u001b[1;33m:\u001b[0m \u001b[1;34m\"tabItem champion-trend-tier-MID\"\u001b[0m\u001b[1;33m}\u001b[0m\u001b[1;33m)\u001b[0m\u001b[1;33m\u001b[0m\u001b[1;33m\u001b[0m\u001b[0m\n\u001b[1;32m----> 8\u001b[1;33m \u001b[0mbtrs\u001b[0m \u001b[1;33m=\u001b[0m \u001b[0mbtab\u001b[0m\u001b[1;33m.\u001b[0m\u001b[0mfind_all\u001b[0m\u001b[1;33m(\u001b[0m\u001b[1;34m\"td\"\u001b[0m\u001b[1;33m,\u001b[0m\u001b[1;33m{\u001b[0m\u001b[1;34m\"class\"\u001b[0m \u001b[1;33m:\u001b[0m\u001b[1;34m\"champion-index-table__cell champion-index-table__cell--champion\"\u001b[0m\u001b[1;33m}\u001b[0m\u001b[1;33m)\u001b[0m\u001b[1;33m\u001b[0m\u001b[1;33m\u001b[0m\u001b[0m\n\u001b[0m\u001b[0;32m      9\u001b[0m \u001b[1;33m\u001b[0m\u001b[0m\n\u001b[0;32m     10\u001b[0m \u001b[0mtops\u001b[0m \u001b[1;33m=\u001b[0m \u001b[1;33m[\u001b[0m\u001b[1;33m]\u001b[0m\u001b[1;33m\u001b[0m\u001b[1;33m\u001b[0m\u001b[0m\n",
      "\u001b[1;31mAttributeError\u001b[0m: 'NoneType' object has no attribute 'find_all'"
     ]
    }
   ],
   "source": [
    "import requests\n",
    "from bs4 import BeautifulSoup\n",
    "\n",
    "url = \"https://www.op.gg/champion/statistics\"\n",
    "htmlText = requests.get(url).text\n",
    "bsoup = BeautifulSoup(htmlText, \"html.parser\")\n",
    "btab = bsoup.find(\"tbody\", {\"class\" : \"tabItem champion-trend-tier-MID\"})\n",
    "btrs = btab.find_all(\"td\",{\"class\" :\"champion-index-table__cell champion-index-table__cell--champion\"})\n",
    "    \n",
    "tops = []\n",
    "\n",
    "for tr in btrs:\n",
    "    dic = {}\n",
    "    tds = tr.find_all(\"div\")\n",
    "    dic['champion'] = tds[0].text\n",
    "    a = tds[1].text.replace(\"\\t\",\"\")\n",
    "    dic['position'] = a.replace(\"\\n\",\"\")\n",
    "    tops.append(dic)\n",
    "        "
   ]
  },
  {
   "cell_type": "code",
   "execution_count": 1,
   "metadata": {},
   "outputs": [
    {
     "ename": "NameError",
     "evalue": "name 'tops' is not defined",
     "output_type": "error",
     "traceback": [
      "\u001b[1;31m---------------------------------------------------------------------------\u001b[0m",
      "\u001b[1;31mNameError\u001b[0m                                 Traceback (most recent call last)",
      "\u001b[1;32m<ipython-input-1-5b2c76e57109>\u001b[0m in \u001b[0;36m<module>\u001b[1;34m\u001b[0m\n\u001b[0;32m     58\u001b[0m \u001b[1;33m\u001b[0m\u001b[0m\n\u001b[0;32m     59\u001b[0m \u001b[1;33m\u001b[0m\u001b[0m\n\u001b[1;32m---> 60\u001b[1;33m \u001b[0msetTableItem\u001b[0m\u001b[1;33m(\u001b[0m\u001b[1;33m)\u001b[0m\u001b[1;33m\u001b[0m\u001b[1;33m\u001b[0m\u001b[0m\n\u001b[0m\u001b[0;32m     61\u001b[0m \u001b[0mtreeTable\u001b[0m\u001b[1;33m.\u001b[0m\u001b[0mplace\u001b[0m\u001b[1;33m(\u001b[0m\u001b[0mx\u001b[0m\u001b[1;33m=\u001b[0m\u001b[1;36m10\u001b[0m\u001b[1;33m,\u001b[0m\u001b[0my\u001b[0m\u001b[1;33m=\u001b[0m\u001b[1;36m90\u001b[0m\u001b[1;33m,\u001b[0m\u001b[0mwidth\u001b[0m\u001b[1;33m=\u001b[0m\u001b[1;36m420\u001b[0m\u001b[1;33m,\u001b[0m\u001b[0mheight\u001b[0m\u001b[1;33m=\u001b[0m\u001b[1;36m250\u001b[0m\u001b[1;33m)\u001b[0m\u001b[1;33m\u001b[0m\u001b[1;33m\u001b[0m\u001b[0m\n\u001b[0;32m     62\u001b[0m \u001b[1;33m\u001b[0m\u001b[0m\n",
      "\u001b[1;32m<ipython-input-1-5b2c76e57109>\u001b[0m in \u001b[0;36msetTableItem\u001b[1;34m()\u001b[0m\n\u001b[0;32m     44\u001b[0m \u001b[1;32mdef\u001b[0m \u001b[0msetTableItem\u001b[0m\u001b[1;33m(\u001b[0m\u001b[1;33m)\u001b[0m\u001b[1;33m:\u001b[0m\u001b[1;33m\u001b[0m\u001b[1;33m\u001b[0m\u001b[0m\n\u001b[0;32m     45\u001b[0m     \u001b[0mtreeTable\u001b[0m\u001b[1;33m.\u001b[0m\u001b[0mdelete\u001b[0m\u001b[1;33m(\u001b[0m\u001b[1;33m*\u001b[0m\u001b[0mtreeTable\u001b[0m\u001b[1;33m.\u001b[0m\u001b[0mget_children\u001b[0m\u001b[1;33m(\u001b[0m\u001b[1;33m)\u001b[0m\u001b[1;33m)\u001b[0m\u001b[1;33m\u001b[0m\u001b[1;33m\u001b[0m\u001b[0m\n\u001b[1;32m---> 46\u001b[1;33m     \u001b[1;32mfor\u001b[0m \u001b[0midx\u001b[0m\u001b[1;33m,\u001b[0m \u001b[0mreport\u001b[0m \u001b[1;32min\u001b[0m \u001b[0menumerate\u001b[0m\u001b[1;33m(\u001b[0m\u001b[0mtops\u001b[0m\u001b[1;33m)\u001b[0m\u001b[1;33m:\u001b[0m \u001b[1;31m#enumerate tops안에 리스트를 숫자화?\u001b[0m\u001b[1;33m\u001b[0m\u001b[1;33m\u001b[0m\u001b[0m\n\u001b[0m\u001b[0;32m     47\u001b[0m         \u001b[0mchampion\u001b[0m \u001b[1;33m=\u001b[0m \u001b[0mreport\u001b[0m\u001b[1;33m[\u001b[0m\u001b[1;34m'champion'\u001b[0m\u001b[1;33m]\u001b[0m\u001b[1;33m\u001b[0m\u001b[1;33m\u001b[0m\u001b[0m\n\u001b[0;32m     48\u001b[0m         \u001b[0mposition\u001b[0m \u001b[1;33m=\u001b[0m \u001b[0mreport\u001b[0m\u001b[1;33m[\u001b[0m\u001b[1;34m'position'\u001b[0m\u001b[1;33m]\u001b[0m\u001b[1;33m\u001b[0m\u001b[1;33m\u001b[0m\u001b[0m\n",
      "\u001b[1;31mNameError\u001b[0m: name 'tops' is not defined"
     ]
    }
   ],
   "source": [
    "from tkinter import Tk,ttk,Label,Button,Text,END\n",
    "import tkinter as tk #tkinter 라이브러리\n",
    "from tkinter import ttk\n",
    "\n",
    "window = Tk()\n",
    "window.title(\"챔피언 분석\")  # 이름\n",
    "window.geometry(\"450x450\") # 크기 조정\n",
    "window.resizable(0,0) #고정\n",
    "\n",
    "title = \"탑라인 챔피언 랭킹\" #헤더 느낌?\n",
    "title_feature = Label(window,text = title, font = (\"Noto Sans KR\",20)) #라벨 , 폰트 조정\n",
    "title_feature.pack(padx = 10, pady = 15) \n",
    "\n",
    "treeTable = ttk.Treeview(window)  #테이블 생성\n",
    "treeTable[\"columns\"] = (\"champion\",\"position\")  # 테이블 아이템\n",
    "treeTable.column(\"#0\",width = 50)  # 이름 및 테이블 크기\n",
    "treeTable.column(\"champion\",width = 100)  \n",
    "treeTable.column(\"position\",width = 50)\n",
    "\n",
    "# combobox = Tk.ttk.Combobox(window, height=15, values=values)\n",
    "\n",
    "treeTable.heading(\"#0\", text = \"No.\",anchor = \"center\") #heading열이름 / 중앙 정렬\n",
    "treeTable.heading(\"champion\", text = \"챔피언\", anchor = \"center\")  #테이블 아이템 이름 변경 / 중앙 정렬\n",
    "treeTable.heading(\"position\",text = \"라인\", anchor = \"center\")\n",
    "\n",
    "# OptionList = [\n",
    "#     \"탑\",\n",
    "#     \"정글\",\n",
    "#     \"미드\",\n",
    "#     \"원딜\",\n",
    "#     \"서폿\"\n",
    "# ]\n",
    "\n",
    "# # window.geometry('200x200')\n",
    "# # window.title(\"라인\")\n",
    "# variable = tk.StringVar(window)\n",
    "# variable.set(OptionList[0])\n",
    "\n",
    "# opt = ttk.Combobox(window, value = OptionList, state = \"readonly\")\n",
    "# opt.config(width=15, font=('Noto Sans KR', 12))\n",
    "# opt.place(x = 20, y = 50)\n",
    "\n",
    "\n",
    "def setTableItem():\n",
    "    treeTable.delete(*treeTable.get_children())\n",
    "    for idx, report in enumerate(tops): #enumerate tops안에 리스트를 숫자화?\n",
    "        champion = report['champion']\n",
    "        position = report['position']\n",
    "        treeTable.insert(\"\",'end',iid = None, text = str(idx),values = [champion,position])\n",
    "\n",
    "# def callback(*args):\n",
    "\n",
    "#     variable.trace(\"w\",callback)\n",
    "    \n",
    "# btn1 = Button(window, text = '검색') #command = 함수이름\n",
    "# btn1.place(x=-100,y=300, relx = 0.5, width = 40, height = 40)\n",
    "# btn1.pack()\n",
    "\n",
    "        \n",
    "setTableItem()       \n",
    "treeTable.place(x=10,y=90,width=420,height=250)\n",
    "\n",
    "\n",
    "\n",
    "\n",
    "#conda install pyinstaller \n",
    "# cd <= 경로 지정 (cd C:\\)\n",
    "#pyinstaller -w -F 0701_2.py\n",
    "\n",
    "\n",
    "window.mainloop()"
   ]
  },
  {
   "cell_type": "code",
   "execution_count": null,
   "metadata": {},
   "outputs": [],
   "source": []
  }
 ],
 "metadata": {
  "kernelspec": {
   "display_name": "Python 3",
   "language": "python",
   "name": "python3"
  },
  "language_info": {
   "codemirror_mode": {
    "name": "ipython",
    "version": 3
   },
   "file_extension": ".py",
   "mimetype": "text/x-python",
   "name": "python",
   "nbconvert_exporter": "python",
   "pygments_lexer": "ipython3",
   "version": "3.8.8"
  }
 },
 "nbformat": 4,
 "nbformat_minor": 4
}
